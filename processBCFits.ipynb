{
 "cells": [
  {
   "cell_type": "code",
   "execution_count": 1,
   "id": "d191dce6",
   "metadata": {},
   "outputs": [],
   "source": [
    "import numpy as np\n",
    "from astropy.modeling import models, fitting\n",
    "import matplotlib.pyplot as plt\n",
    "from pathlib import Path\n",
    "from astropy.io import fits\n",
    "from astropy.wcs import WCS\n",
    "import os\n",
    "import scipy.stats as stats\n",
    "import json\n",
    "import pandas as pd\n",
    "from fitsutil import *\n",
    "from bc_imaging_analysis import imaging_analysis\n",
    "from xraysky.scripts import events_imaging\n",
    "from bcpsf import *\n"
   ]
  },
  {
   "cell_type": "markdown",
   "id": "0b561f12",
   "metadata": {},
   "source": [
    "This one is for windows"
   ]
  },
  {
   "cell_type": "code",
   "execution_count": null,
   "id": "ef3c498c",
   "metadata": {},
   "outputs": [],
   "source": [
    "eventPath = Path(\n",
    "    r\"Z:/Astro_BlackCAT\\BlackCAT_Calibration_Data\\LC_Calibration_Data\\y2024-12-12\\BC057_Ti_FF_233_HORI_0_0\\Analysis\\imaging_analysis_20241213\\combined_events_th1_200.fits.gz\"\n",
    ")\n",
    "d = fits.open(eventPath)"
   ]
  },
  {
   "cell_type": "code",
   "execution_count": null,
   "id": "8f7f24ea",
   "metadata": {},
   "outputs": [],
   "source": [
    "eventPath = Path(\n",
    "    r\"/mnt/z/Astro_BlackCAT/BlackCAT_Calibration_Data/LC_Calibration_Data/y2024-12-12/BC057_Ti_FF_233_HORI_0_0/Analysis/imaging_analysis_20241213/combined_events_th1_200.fits.gz\"\n",
    ")\n",
    "d = fits.open(eventPath)\n",
    "cols = d[1].columns\n",
    "(d[1].header)"
   ]
  },
  {
   "cell_type": "code",
   "execution_count": null,
   "id": "2397bd14",
   "metadata": {},
   "outputs": [],
   "source": [
    "print(type(d))\n",
    "evntlist_in_browser(eventPath)"
   ]
  },
  {
   "cell_type": "code",
   "execution_count": null,
   "id": "8f0a2873",
   "metadata": {},
   "outputs": [],
   "source": [
    "#signal, trash = splitEventList(d,3020,\"sum\")\n",
    "signal, noiseShelf = splitEventList(d,550,\"sum\")\n",
    "noiseShelf.columns = cols\n",
    "noiseShelf.header = d[1].header\n",
    "noiseShelf.writeto(\"/home/laurel/astro/testing/noiseshelf.fits.gz\",overwrite=True)\n",
    "signal.columns = cols\n",
    "signal.header = d[1].header\n",
    "signal.writeto(\"/home/laurel/astro/testing/signal.fits.gz\",overwrite=True)"
   ]
  },
  {
   "cell_type": "code",
   "execution_count": null,
   "id": "a4c2ad0e",
   "metadata": {},
   "outputs": [],
   "source": [
    "noise = Spectrum(\"/home/laurel/astro/testing/noiseshelf.fits.gz\",th1 = 200, th2=60)\n",
    "noise.plotSpectrum(binsize=10)\n",
    "sig = Spectrum(\"/home/laurel/astro/testing/signal.fits.gz\",th1 = 200, th2=60)\n",
    "sig.plotSpectrum(binsize=10)"
   ]
  },
  {
   "cell_type": "code",
   "execution_count": null,
   "id": "2d644930",
   "metadata": {},
   "outputs": [],
   "source": [
    "a,b = halfEventList(signal)"
   ]
  },
  {
   "cell_type": "code",
   "execution_count": null,
   "id": "c947e1d5",
   "metadata": {},
   "outputs": [],
   "source": [
    "random_a = random_sample_events_list(a,1500)\n",
    "random_b = random_sample_events_list(b,1000)"
   ]
  },
  {
   "cell_type": "code",
   "execution_count": null,
   "id": "ff006e2b",
   "metadata": {},
   "outputs": [],
   "source": [
    "noise = np.array(noiseShelf.data)\n"
   ]
  },
  {
   "cell_type": "code",
   "execution_count": null,
   "id": "ecdbe5d5",
   "metadata": {},
   "outputs": [],
   "source": [
    "random_a.data = np.append(random_a.data,noiseShelf.data)\n",
    "print(len(random_a.data))"
   ]
  },
  {
   "cell_type": "code",
   "execution_count": null,
   "id": "5aad6992",
   "metadata": {},
   "outputs": [],
   "source": [
    "SampleHDU = fits.BinTableHDU.from_columns(cols)\n",
    "random_a.columns = cols\n",
    "random_a.header = d[1].header\n",
    "random_a.writeto(\"/home/laurel/astro/testing/test.fits.gz\",overwrite=True)\n"
   ]
  },
  {
   "cell_type": "code",
   "execution_count": null,
   "id": "037d6c2f",
   "metadata": {},
   "outputs": [],
   "source": [
    "test = fits.open(\"/home/laurel/astro/testing/test.fits.gz\")\n",
    "test[1].header"
   ]
  },
  {
   "cell_type": "code",
   "execution_count": null,
   "id": "6ba1a393",
   "metadata": {},
   "outputs": [],
   "source": [
    "test = Spectrum(\"/home/laurel/astro/testing/test.fits.gz\",th1 = 200, th2=60)\n",
    "test.plotSpectrum(binsize=10)\n",
    "#out = test.filterEvents(sumrange=[0,550])\n",
    "#out.plotSpectrum(binsize=10)\n"
   ]
  },
  {
   "cell_type": "code",
   "execution_count": null,
   "id": "82e341fe",
   "metadata": {},
   "outputs": [],
   "source": [
    "imager= events_imaging.BC_Imaging()\n",
    "imageOut = imager.evtlist2image(\n",
    "    \"/home/laurel/astro/testing/test.fits.gz\",\"/home/laurel/astro/testing/test_reconstruct.fits.gz\"\n",
    ")\n",
    "imager.plotSource(imageOut)\n",
    "peaks = imager.imager.findpeaks(imageOut.data.T) # Index 5 has the significance"
   ]
  },
  {
   "cell_type": "code",
   "execution_count": null,
   "id": "3feec3e4",
   "metadata": {},
   "outputs": [],
   "source": [
    "d = fits.open(\"/home/laurel/astro/testing/test_reconstruct.fits.gz\")\n",
    "data = d[0].header\n",
    "#out = a.header"
   ]
  },
  {
   "cell_type": "code",
   "execution_count": null,
   "id": "ea015bb8",
   "metadata": {},
   "outputs": [],
   "source": [
    "peaks.size\n",
    "p = peaks[0]\n",
    "p[5]"
   ]
  },
  {
   "cell_type": "code",
   "execution_count": null,
   "id": "14416bda",
   "metadata": {},
   "outputs": [],
   "source": [
    "test = analyze_localization(d,plot=True)"
   ]
  },
  {
   "cell_type": "code",
   "execution_count": null,
   "id": "846f3805",
   "metadata": {},
   "outputs": [],
   "source": [
    "test2 = analyze_localization_directory(\"/home/laurel/astro/testing/test_reconstruct.fits.gz\")"
   ]
  },
  {
   "cell_type": "code",
   "execution_count": null,
   "id": "21b3c5d3",
   "metadata": {},
   "outputs": [],
   "source": [
    "log = np.empty([len(folder_list),2]) # create empty array to hold a log of stuff\n"
   ]
  },
  {
   "cell_type": "markdown",
   "id": "baeab6f2",
   "metadata": {},
   "source": [
    "for windows"
   ]
  },
  {
   "cell_type": "code",
   "execution_count": null,
   "id": "4beedf00",
   "metadata": {},
   "outputs": [],
   "source": [
    "# for windows\n",
    "fileDirectory = r\"Z:\\Astro_BlackCAT\\BlackCAT_Calibration_Data\\LC_Calibration_Data\\y2024-12-12\""
   ]
  },
  {
   "cell_type": "markdown",
   "id": "b19b06ec",
   "metadata": {},
   "source": [
    "for running on WSL\n"
   ]
  },
  {
   "cell_type": "code",
   "execution_count": 3,
   "id": "9e0baebb",
   "metadata": {},
   "outputs": [],
   "source": [
    "fileDirectory = r\"/mnt/z/Astro_BlackCAT/BlackCAT_Calibration_Data/LC_Calibration_Data/y2024-12-12\"\n",
    "outDirectory = r\"/mnt/z/Astro_BlackCAT/BlackCAT_Calibration_Data/LC_Calibration_Data/psfSamples\"\n",
    "splitThreshold = 550\n",
    "numberOfRandomSamples = 1500\n",
    "folder_list = [folder for folder in os.listdir(fileDirectory) if os.path.isdir(os.path.join(fileDirectory, folder))]\n"
   ]
  },
  {
   "cell_type": "code",
   "execution_count": null,
   "id": "c8c1e868",
   "metadata": {},
   "outputs": [
    {
     "name": "stdout",
     "output_type": "stream",
     "text": [
      "BC055_Ti_EDF_243K_EA_R02 bad\n",
      "number of samples requested is greater than number of events\n",
      "number of samples requested is greater than number of events\n",
      "BC056_Ti_EDS_243K_EA_R02 bad\n",
      "number of samples requested is greater than number of events\n",
      "number of samples requested is greater than number of events\n",
      "number of samples requested is greater than number of events\n",
      "number of samples requested is greater than number of events\n",
      "number of samples requested is greater than number of events\n",
      "number of samples requested is greater than number of events\n",
      "number of samples requested is greater than number of events\n",
      "number of samples requested is greater than number of events\n",
      "number of samples requested is greater than number of events\n",
      "number of samples requested is greater than number of events\n",
      "number of samples requested is greater than number of events\n",
      "number of samples requested is greater than number of events\n",
      "number of samples requested is greater than number of events\n",
      "number of samples requested is greater than number of events\n",
      "number of samples requested is greater than number of events\n",
      "number of samples requested is greater than number of events\n",
      "number of samples requested is greater than number of events\n",
      "number of samples requested is greater than number of events\n",
      "number of samples requested is greater than number of events\n",
      "number of samples requested is greater than number of events\n",
      "number of samples requested is greater than number of events\n",
      "number of samples requested is greater than number of events\n",
      "BC074_Ti_EDS_223K_EA_R01 bad\n"
     ]
    }
   ],
   "source": [
    "#folder_list = [folder for folder in os.listdir(fileDirectory) if os.path.isdir(os.path.join(fileDirectory, folder))]\n",
    "\n",
    "log = [[None for _ in range(2)] for _ in range(len(folder_list))] #np.empty([len(folder_list),2],str) # empty array to log errors and wahtnot\n",
    "\n",
    "for a in range(len(folder_list)):\n",
    "    eventlistPath = Path(fileDirectory)/Path(folder_list[a])/Path(\"Analysis/imaging_analysis_20241213/combined_events_th1_200.fits.gz\")\n",
    "    try:\n",
    "        d = fits.open(eventlistPath)\n",
    "        cols = d[1].columns\n",
    "        header = d[1].header\n",
    "    \n",
    "        signal, noiseShelf = splitEventList(d,splitThreshold,\"sum\") # separate the noise shelf from the \"signal data\"\n",
    "        signal_1,signal_2 = halfEventList(signal) # split the portion of the data that is the \"signal\" in half\n",
    "\n",
    "        signal_1_random = random_sample_events_list(signal_1,numberOfRandomSamples) # take a random sample of each half of the split data\n",
    "        signal_2_random = random_sample_events_list(signal_2,numberOfRandomSamples) # take a random sample of each half of the split data\n",
    "    \n",
    "        noise = np.array(noiseShelf.data) # make a numpy array from the noise shelf data\n",
    "\n",
    "        signal_1_random.data = np.append(signal_1_random.data,noiseShelf.data) # add the noise shelf to each half of the data\n",
    "        signal_2_random.data = np.append(signal_2_random.data,noiseShelf.data) # add the noise shelf to each half of the data\n",
    "\n",
    "        signal_1_random.columns = cols\n",
    "        signal_1_random.header = header\n",
    "\n",
    "        signal_2_random.columns = cols\n",
    "        signal_2_random.header = header\n",
    "\n",
    "        signal_1_random.writeto(Path(outDirectory)/Path(folder_list[a]+\"_samp1\"+\".fits.gz\"),overwrite=True)\n",
    "        signal_2_random.writeto(Path(outDirectory)/Path(folder_list[a]+\"_samp2\"+\".fits.gz\"),overwrite=True)\n",
    "\n",
    "        #log[a,1] = folder_list[a]\n",
    "        #log[a,2] = \"created random sample files\"\n",
    "    except:\n",
    "        #log[a,0] = folder_list[a]\n",
    "        #log[a,1] = \" no file or other error\"\n",
    "        print(folder_list[a]+\" bad\")\n"
   ]
  },
  {
   "cell_type": "code",
   "execution_count": 2,
   "id": "651d5635",
   "metadata": {},
   "outputs": [],
   "source": [
    "data_directory = r\"/mnt/z/Astro_BlackCAT/BlackCAT_Calibration_Data/LC_Calibration_Data/psfSamples\"\n",
    "image_directory= r\"/mnt/z/Astro_BlackCAT/BlackCAT_Calibration_Data/LC_Calibration_Data/psfSamples/image_reconstruction\"\n",
    "file_list = [file for file in os.listdir(data_directory) if os.path.isfile(os.path.join(data_directory, file))]\n",
    "\n"
   ]
  },
  {
   "cell_type": "code",
   "execution_count": 3,
   "id": "5f2d7732",
   "metadata": {},
   "outputs": [
    {
     "ename": "OSError",
     "evalue": "[Errno 5] Input/output error",
     "output_type": "error",
     "traceback": [
      "\u001b[0;31m---------------------------------------------------------------------------\u001b[0m",
      "\u001b[0;31mOSError\u001b[0m                                   Traceback (most recent call last)",
      "File \u001b[0;32m~/miniconda3/envs/xhcd/lib/python3.12/site-packages/astropy/io/fits/util.py:787\u001b[0m, in \u001b[0;36m_free_space_check\u001b[0;34m(hdulist, dirname)\u001b[0m\n\u001b[1;32m    786\u001b[0m \u001b[38;5;28;01mtry\u001b[39;00m:\n\u001b[0;32m--> 787\u001b[0m     \u001b[38;5;28;01myield\u001b[39;00m\n\u001b[1;32m    788\u001b[0m \u001b[38;5;28;01mexcept\u001b[39;00m \u001b[38;5;167;01mOSError\u001b[39;00m \u001b[38;5;28;01mas\u001b[39;00m exc:\n",
      "File \u001b[0;32m~/miniconda3/envs/xhcd/lib/python3.12/site-packages/astropy/io/fits/hdu/base.py:717\u001b[0m, in \u001b[0;36m_BaseHDU._writeto\u001b[0;34m(self, fileobj, inplace, copy)\u001b[0m\n\u001b[1;32m    716\u001b[0m \u001b[38;5;28;01mwith\u001b[39;00m _free_space_check(\u001b[38;5;28mself\u001b[39m, dirname):\n\u001b[0;32m--> 717\u001b[0m     \u001b[38;5;28mself\u001b[39m\u001b[38;5;241m.\u001b[39m_writeto_internal(fileobj, inplace, copy)\n",
      "File \u001b[0;32m~/miniconda3/envs/xhcd/lib/python3.12/site-packages/astropy/io/fits/hdu/base.py:723\u001b[0m, in \u001b[0;36m_BaseHDU._writeto_internal\u001b[0;34m(self, fileobj, inplace, copy)\u001b[0m\n\u001b[1;32m    722\u001b[0m header_offset, _ \u001b[38;5;241m=\u001b[39m \u001b[38;5;28mself\u001b[39m\u001b[38;5;241m.\u001b[39m_writeheader(fileobj)\n\u001b[0;32m--> 723\u001b[0m data_offset, data_size \u001b[38;5;241m=\u001b[39m \u001b[38;5;28mself\u001b[39m\u001b[38;5;241m.\u001b[39m_writedata(fileobj)\n\u001b[1;32m    725\u001b[0m \u001b[38;5;66;03m# Set the various data location attributes on newly-written HDUs\u001b[39;00m\n",
      "File \u001b[0;32m~/miniconda3/envs/xhcd/lib/python3.12/site-packages/astropy/io/fits/hdu/base.py:654\u001b[0m, in \u001b[0;36m_BaseHDU._writedata\u001b[0;34m(self, fileobj)\u001b[0m\n\u001b[1;32m    653\u001b[0m \u001b[38;5;28;01mif\u001b[39;00m \u001b[38;5;28mself\u001b[39m\u001b[38;5;241m.\u001b[39mdata \u001b[38;5;129;01mis\u001b[39;00m \u001b[38;5;129;01mnot\u001b[39;00m \u001b[38;5;28;01mNone\u001b[39;00m:\n\u001b[0;32m--> 654\u001b[0m     size \u001b[38;5;241m+\u001b[39m\u001b[38;5;241m=\u001b[39m \u001b[38;5;28mself\u001b[39m\u001b[38;5;241m.\u001b[39m_writedata_internal(fileobj)\n\u001b[1;32m    655\u001b[0m \u001b[38;5;66;03m# pad the FITS data block\u001b[39;00m\n\u001b[1;32m    656\u001b[0m \u001b[38;5;66;03m# to avoid a bug in the lustre filesystem client, don't\u001b[39;00m\n\u001b[1;32m    657\u001b[0m \u001b[38;5;66;03m# write zero-byte objects\u001b[39;00m\n",
      "File \u001b[0;32m~/miniconda3/envs/xhcd/lib/python3.12/site-packages/astropy/io/fits/hdu/image.py:681\u001b[0m, in \u001b[0;36m_ImageBaseHDU._writedata_internal\u001b[0;34m(self, fileobj)\u001b[0m\n\u001b[1;32m    680\u001b[0m \u001b[38;5;28;01mtry\u001b[39;00m:\n\u001b[0;32m--> 681\u001b[0m     fileobj\u001b[38;5;241m.\u001b[39mwritearray(output)\n\u001b[1;32m    682\u001b[0m \u001b[38;5;28;01mfinally\u001b[39;00m:\n",
      "File \u001b[0;32m~/miniconda3/envs/xhcd/lib/python3.12/site-packages/astropy/io/fits/file.py:442\u001b[0m, in \u001b[0;36m_File.writearray\u001b[0;34m(self, array)\u001b[0m\n\u001b[1;32m    441\u001b[0m \u001b[38;5;28;01mif\u001b[39;00m \u001b[38;5;28mhasattr\u001b[39m(\u001b[38;5;28mself\u001b[39m\u001b[38;5;241m.\u001b[39m_file, \u001b[38;5;124m\"\u001b[39m\u001b[38;5;124mwrite\u001b[39m\u001b[38;5;124m\"\u001b[39m):\n\u001b[0;32m--> 442\u001b[0m     _array_to_file(array, \u001b[38;5;28mself\u001b[39m\u001b[38;5;241m.\u001b[39m_file)\n",
      "File \u001b[0;32m~/miniconda3/envs/xhcd/lib/python3.12/site-packages/astropy/io/fits/util.py:593\u001b[0m, in \u001b[0;36m_array_to_file\u001b[0;34m(arr, outfile)\u001b[0m\n\u001b[1;32m    591\u001b[0m \u001b[38;5;28;01melse\u001b[39;00m:\n\u001b[1;32m    592\u001b[0m     \u001b[38;5;66;03m# Just pass the whole array to the write routine\u001b[39;00m\n\u001b[0;32m--> 593\u001b[0m     \u001b[38;5;28;01mreturn\u001b[39;00m write(arr, outfile)\n\u001b[1;32m    595\u001b[0m \u001b[38;5;66;03m# Write one chunk at a time for systems whose fwrite chokes on large\u001b[39;00m\n\u001b[1;32m    596\u001b[0m \u001b[38;5;66;03m# writes.\u001b[39;00m\n",
      "File \u001b[0;32m~/miniconda3/envs/xhcd/lib/python3.12/site-packages/astropy/io/fits/util.py:630\u001b[0m, in \u001b[0;36m_array_to_file_like\u001b[0;34m(arr, fileobj)\u001b[0m\n\u001b[1;32m    629\u001b[0m     \u001b[38;5;28;01mfor\u001b[39;00m item \u001b[38;5;129;01min\u001b[39;00m np\u001b[38;5;241m.\u001b[39mnditer(arr, order\u001b[38;5;241m=\u001b[39m\u001b[38;5;124m\"\u001b[39m\u001b[38;5;124mC\u001b[39m\u001b[38;5;124m\"\u001b[39m):\n\u001b[0;32m--> 630\u001b[0m         fileobj\u001b[38;5;241m.\u001b[39mwrite(item\u001b[38;5;241m.\u001b[39mtobytes())\n\u001b[1;32m    631\u001b[0m \u001b[38;5;28;01melse\u001b[39;00m:\n\u001b[1;32m    632\u001b[0m     \u001b[38;5;66;03m# Slower version for Numpy versions without nditer;\u001b[39;00m\n\u001b[1;32m    633\u001b[0m     \u001b[38;5;66;03m# The problem with flatiter is it doesn't preserve the original\u001b[39;00m\n\u001b[1;32m    634\u001b[0m     \u001b[38;5;66;03m# byteorder\u001b[39;00m\n",
      "File \u001b[0;32m~/miniconda3/envs/xhcd/lib/python3.12/gzip.py:300\u001b[0m, in \u001b[0;36mGzipFile.write\u001b[0;34m(self, data)\u001b[0m\n\u001b[1;32m    298\u001b[0m     \u001b[38;5;28;01mraise\u001b[39;00m \u001b[38;5;167;01mValueError\u001b[39;00m(\u001b[38;5;124m\"\u001b[39m\u001b[38;5;124mwrite() on closed GzipFile object\u001b[39m\u001b[38;5;124m\"\u001b[39m)\n\u001b[0;32m--> 300\u001b[0m \u001b[38;5;28;01mreturn\u001b[39;00m \u001b[38;5;28mself\u001b[39m\u001b[38;5;241m.\u001b[39m_buffer\u001b[38;5;241m.\u001b[39mwrite(data)\n",
      "File \u001b[0;32m~/miniconda3/envs/xhcd/lib/python3.12/gzip.py:130\u001b[0m, in \u001b[0;36m_WriteBufferStream.write\u001b[0;34m(self, data)\u001b[0m\n\u001b[1;32m    129\u001b[0m \u001b[38;5;28;01mdef\u001b[39;00m \u001b[38;5;21mwrite\u001b[39m(\u001b[38;5;28mself\u001b[39m, data):\n\u001b[0;32m--> 130\u001b[0m     \u001b[38;5;28;01mreturn\u001b[39;00m \u001b[38;5;28mself\u001b[39m\u001b[38;5;241m.\u001b[39mgzip_file\u001b[38;5;241m.\u001b[39m_write_raw(data)\n",
      "File \u001b[0;32m~/miniconda3/envs/xhcd/lib/python3.12/gzip.py:312\u001b[0m, in \u001b[0;36mGzipFile._write_raw\u001b[0;34m(self, data)\u001b[0m\n\u001b[1;32m    311\u001b[0m \u001b[38;5;28;01mif\u001b[39;00m length \u001b[38;5;241m>\u001b[39m \u001b[38;5;241m0\u001b[39m:\n\u001b[0;32m--> 312\u001b[0m     \u001b[38;5;28mself\u001b[39m\u001b[38;5;241m.\u001b[39mfileobj\u001b[38;5;241m.\u001b[39mwrite(\u001b[38;5;28mself\u001b[39m\u001b[38;5;241m.\u001b[39mcompress\u001b[38;5;241m.\u001b[39mcompress(data))\n\u001b[1;32m    313\u001b[0m     \u001b[38;5;28mself\u001b[39m\u001b[38;5;241m.\u001b[39msize \u001b[38;5;241m+\u001b[39m\u001b[38;5;241m=\u001b[39m length\n",
      "\u001b[0;31mOSError\u001b[0m: [Errno 5] Input/output error",
      "\nDuring handling of the above exception, another exception occurred:\n",
      "\u001b[0;31mOSError\u001b[0m                                   Traceback (most recent call last)",
      "File \u001b[0;32m~/miniconda3/envs/xhcd/lib/python3.12/site-packages/astropy/io/fits/util.py:787\u001b[0m, in \u001b[0;36m_free_space_check\u001b[0;34m(hdulist, dirname)\u001b[0m\n\u001b[1;32m    786\u001b[0m \u001b[38;5;28;01mtry\u001b[39;00m:\n\u001b[0;32m--> 787\u001b[0m     \u001b[38;5;28;01myield\u001b[39;00m\n\u001b[1;32m    788\u001b[0m \u001b[38;5;28;01mexcept\u001b[39;00m \u001b[38;5;167;01mOSError\u001b[39;00m \u001b[38;5;28;01mas\u001b[39;00m exc:\n",
      "File \u001b[0;32m~/miniconda3/envs/xhcd/lib/python3.12/site-packages/astropy/io/fits/hdu/hdulist.py:1044\u001b[0m, in \u001b[0;36mHDUList.writeto\u001b[0;34m(self, fileobj, output_verify, overwrite, checksum)\u001b[0m\n\u001b[1;32m   1043\u001b[0m hdu\u001b[38;5;241m.\u001b[39m_prewriteto(checksum\u001b[38;5;241m=\u001b[39mchecksum)\n\u001b[0;32m-> 1044\u001b[0m hdu\u001b[38;5;241m.\u001b[39m_writeto(hdulist\u001b[38;5;241m.\u001b[39m_file)\n\u001b[1;32m   1045\u001b[0m hdu\u001b[38;5;241m.\u001b[39m_postwriteto()\n",
      "File \u001b[0;32m~/miniconda3/envs/xhcd/lib/python3.12/site-packages/astropy/io/fits/hdu/base.py:716\u001b[0m, in \u001b[0;36m_BaseHDU._writeto\u001b[0;34m(self, fileobj, inplace, copy)\u001b[0m\n\u001b[1;32m    714\u001b[0m     dirname \u001b[38;5;241m=\u001b[39m \u001b[38;5;28;01mNone\u001b[39;00m\n\u001b[0;32m--> 716\u001b[0m \u001b[38;5;28;01mwith\u001b[39;00m _free_space_check(\u001b[38;5;28mself\u001b[39m, dirname):\n\u001b[1;32m    717\u001b[0m     \u001b[38;5;28mself\u001b[39m\u001b[38;5;241m.\u001b[39m_writeto_internal(fileobj, inplace, copy)\n",
      "File \u001b[0;32m~/miniconda3/envs/xhcd/lib/python3.12/contextlib.py:158\u001b[0m, in \u001b[0;36m_GeneratorContextManager.__exit__\u001b[0;34m(self, typ, value, traceback)\u001b[0m\n\u001b[1;32m    157\u001b[0m \u001b[38;5;28;01mtry\u001b[39;00m:\n\u001b[0;32m--> 158\u001b[0m     \u001b[38;5;28mself\u001b[39m\u001b[38;5;241m.\u001b[39mgen\u001b[38;5;241m.\u001b[39mthrow(value)\n\u001b[1;32m    159\u001b[0m \u001b[38;5;28;01mexcept\u001b[39;00m \u001b[38;5;167;01mStopIteration\u001b[39;00m \u001b[38;5;28;01mas\u001b[39;00m exc:\n\u001b[1;32m    160\u001b[0m     \u001b[38;5;66;03m# Suppress StopIteration *unless* it's the same exception that\u001b[39;00m\n\u001b[1;32m    161\u001b[0m     \u001b[38;5;66;03m# was passed to throw().  This prevents a StopIteration\u001b[39;00m\n\u001b[1;32m    162\u001b[0m     \u001b[38;5;66;03m# raised inside the \"with\" statement from being suppressed.\u001b[39;00m\n",
      "File \u001b[0;32m~/miniconda3/envs/xhcd/lib/python3.12/site-packages/astropy/io/fits/util.py:806\u001b[0m, in \u001b[0;36m_free_space_check\u001b[0;34m(hdulist, dirname)\u001b[0m\n\u001b[1;32m    804\u001b[0m     hdu\u001b[38;5;241m.\u001b[39m_close()\n\u001b[0;32m--> 806\u001b[0m \u001b[38;5;28;01mraise\u001b[39;00m \u001b[38;5;167;01mOSError\u001b[39;00m(error_message \u001b[38;5;241m+\u001b[39m \u001b[38;5;28mstr\u001b[39m(exc))\n",
      "\u001b[0;31mOSError\u001b[0m: [Errno 5] Input/output error",
      "\nDuring handling of the above exception, another exception occurred:\n",
      "\u001b[0;31mOSError\u001b[0m                                   Traceback (most recent call last)",
      "File \u001b[0;32m~/miniconda3/envs/xhcd/lib/python3.12/site-packages/astropy/io/fits/hdu/hdulist.py:1041\u001b[0m, in \u001b[0;36mHDUList.writeto\u001b[0;34m(self, fileobj, output_verify, overwrite, checksum)\u001b[0m\n\u001b[1;32m   1040\u001b[0m \u001b[38;5;28;01mtry\u001b[39;00m:\n\u001b[0;32m-> 1041\u001b[0m     \u001b[38;5;28;01mwith\u001b[39;00m _free_space_check(\u001b[38;5;28mself\u001b[39m, dirname\u001b[38;5;241m=\u001b[39mdirname):\n\u001b[1;32m   1042\u001b[0m         \u001b[38;5;28;01mfor\u001b[39;00m hdu \u001b[38;5;129;01min\u001b[39;00m \u001b[38;5;28mself\u001b[39m:\n",
      "File \u001b[0;32m~/miniconda3/envs/xhcd/lib/python3.12/contextlib.py:158\u001b[0m, in \u001b[0;36m_GeneratorContextManager.__exit__\u001b[0;34m(self, typ, value, traceback)\u001b[0m\n\u001b[1;32m    157\u001b[0m \u001b[38;5;28;01mtry\u001b[39;00m:\n\u001b[0;32m--> 158\u001b[0m     \u001b[38;5;28mself\u001b[39m\u001b[38;5;241m.\u001b[39mgen\u001b[38;5;241m.\u001b[39mthrow(value)\n\u001b[1;32m    159\u001b[0m \u001b[38;5;28;01mexcept\u001b[39;00m \u001b[38;5;167;01mStopIteration\u001b[39;00m \u001b[38;5;28;01mas\u001b[39;00m exc:\n\u001b[1;32m    160\u001b[0m     \u001b[38;5;66;03m# Suppress StopIteration *unless* it's the same exception that\u001b[39;00m\n\u001b[1;32m    161\u001b[0m     \u001b[38;5;66;03m# was passed to throw().  This prevents a StopIteration\u001b[39;00m\n\u001b[1;32m    162\u001b[0m     \u001b[38;5;66;03m# raised inside the \"with\" statement from being suppressed.\u001b[39;00m\n",
      "File \u001b[0;32m~/miniconda3/envs/xhcd/lib/python3.12/site-packages/astropy/io/fits/util.py:806\u001b[0m, in \u001b[0;36m_free_space_check\u001b[0;34m(hdulist, dirname)\u001b[0m\n\u001b[1;32m    804\u001b[0m     hdu\u001b[38;5;241m.\u001b[39m_close()\n\u001b[0;32m--> 806\u001b[0m \u001b[38;5;28;01mraise\u001b[39;00m \u001b[38;5;167;01mOSError\u001b[39;00m(error_message \u001b[38;5;241m+\u001b[39m \u001b[38;5;28mstr\u001b[39m(exc))\n",
      "\u001b[0;31mOSError\u001b[0m: [Errno 5] Input/output error",
      "\nDuring handling of the above exception, another exception occurred:\n",
      "\u001b[0;31mOSError\u001b[0m                                   Traceback (most recent call last)",
      "Cell \u001b[0;32mIn[3], line 7\u001b[0m\n\u001b[1;32m      5\u001b[0m eventlist \u001b[38;5;241m=\u001b[39m Path(data_directory)\u001b[38;5;241m/\u001b[39mPath(file_list[a])\n\u001b[1;32m      6\u001b[0m image \u001b[38;5;241m=\u001b[39m Path(image_directory)\u001b[38;5;241m/\u001b[39mPath(file_list[a])\n\u001b[0;32m----> 7\u001b[0m imageOut \u001b[38;5;241m=\u001b[39m imager\u001b[38;5;241m.\u001b[39mevtlist2image(\n\u001b[1;32m      8\u001b[0m     eventlist, image\n\u001b[1;32m      9\u001b[0m )\n",
      "File \u001b[0;32m~/miniconda3/envs/xhcd/lib/python3.12/site-packages/xraysky/scripts/events_imaging.py:77\u001b[0m, in \u001b[0;36mBC_Imaging.evtlist2image\u001b[0;34m(self, evtsfile, outfile)\u001b[0m\n\u001b[1;32m     71\u001b[0m hdu\u001b[38;5;241m.\u001b[39mheader[\u001b[38;5;124m\"\u001b[39m\u001b[38;5;124mCDELT2\u001b[39m\u001b[38;5;124m\"\u001b[39m] \u001b[38;5;241m=\u001b[39m (\n\u001b[1;32m     72\u001b[0m     \u001b[38;5;28mself\u001b[39m\u001b[38;5;241m.\u001b[39mskypixsize,\n\u001b[1;32m     73\u001b[0m     \u001b[38;5;124m\"\u001b[39m\u001b[38;5;124mSize projected into a detector pixel in axis2\u001b[39m\u001b[38;5;124m\"\u001b[39m,\n\u001b[1;32m     74\u001b[0m )\n\u001b[1;32m     76\u001b[0m \u001b[38;5;28;01mif\u001b[39;00m \u001b[38;5;129;01mnot\u001b[39;00m outfile \u001b[38;5;129;01mis\u001b[39;00m \u001b[38;5;28;01mNone\u001b[39;00m:\n\u001b[0;32m---> 77\u001b[0m     hdu\u001b[38;5;241m.\u001b[39mwriteto(outfile, overwrite\u001b[38;5;241m=\u001b[39m\u001b[38;5;28;01mTrue\u001b[39;00m)\n\u001b[1;32m     79\u001b[0m \u001b[38;5;28;01mreturn\u001b[39;00m hdu\n",
      "File \u001b[0;32m~/miniconda3/envs/xhcd/lib/python3.12/site-packages/astropy/io/fits/hdu/base.py:407\u001b[0m, in \u001b[0;36m_BaseHDU.writeto\u001b[0;34m(self, name, output_verify, overwrite, checksum)\u001b[0m\n\u001b[1;32m    404\u001b[0m \u001b[38;5;28;01mfrom\u001b[39;00m \u001b[38;5;21;01m.\u001b[39;00m\u001b[38;5;21;01mhdulist\u001b[39;00m \u001b[38;5;28;01mimport\u001b[39;00m HDUList\n\u001b[1;32m    406\u001b[0m hdulist \u001b[38;5;241m=\u001b[39m HDUList([\u001b[38;5;28mself\u001b[39m])\n\u001b[0;32m--> 407\u001b[0m hdulist\u001b[38;5;241m.\u001b[39mwriteto(name, output_verify, overwrite\u001b[38;5;241m=\u001b[39moverwrite, checksum\u001b[38;5;241m=\u001b[39mchecksum)\n",
      "File \u001b[0;32m~/miniconda3/envs/xhcd/lib/python3.12/site-packages/astropy/io/fits/hdu/hdulist.py:1047\u001b[0m, in \u001b[0;36mHDUList.writeto\u001b[0;34m(self, fileobj, output_verify, overwrite, checksum)\u001b[0m\n\u001b[1;32m   1045\u001b[0m             hdu\u001b[38;5;241m.\u001b[39m_postwriteto()\n\u001b[1;32m   1046\u001b[0m \u001b[38;5;28;01mfinally\u001b[39;00m:\n\u001b[0;32m-> 1047\u001b[0m     hdulist\u001b[38;5;241m.\u001b[39mclose(output_verify\u001b[38;5;241m=\u001b[39moutput_verify, closed\u001b[38;5;241m=\u001b[39mclosed)\n",
      "File \u001b[0;32m~/miniconda3/envs/xhcd/lib/python3.12/site-packages/astropy/io/fits/hdu/hdulist.py:1077\u001b[0m, in \u001b[0;36mHDUList.close\u001b[0;34m(self, output_verify, verbose, closed)\u001b[0m\n\u001b[1;32m   1075\u001b[0m \u001b[38;5;28;01mfinally\u001b[39;00m:\n\u001b[1;32m   1076\u001b[0m     \u001b[38;5;28;01mif\u001b[39;00m \u001b[38;5;28mself\u001b[39m\u001b[38;5;241m.\u001b[39m_file \u001b[38;5;129;01mand\u001b[39;00m closed \u001b[38;5;129;01mand\u001b[39;00m \u001b[38;5;28mhasattr\u001b[39m(\u001b[38;5;28mself\u001b[39m\u001b[38;5;241m.\u001b[39m_file, \u001b[38;5;124m\"\u001b[39m\u001b[38;5;124mclose\u001b[39m\u001b[38;5;124m\"\u001b[39m):\n\u001b[0;32m-> 1077\u001b[0m         \u001b[38;5;28mself\u001b[39m\u001b[38;5;241m.\u001b[39m_file\u001b[38;5;241m.\u001b[39mclose()\n\u001b[1;32m   1079\u001b[0m     \u001b[38;5;66;03m# Give individual HDUs an opportunity to do on-close cleanup\u001b[39;00m\n\u001b[1;32m   1080\u001b[0m     \u001b[38;5;28;01mfor\u001b[39;00m hdu \u001b[38;5;129;01min\u001b[39;00m \u001b[38;5;28mself\u001b[39m:\n",
      "File \u001b[0;32m~/miniconda3/envs/xhcd/lib/python3.12/site-packages/astropy/io/fits/file.py:478\u001b[0m, in \u001b[0;36m_File.close\u001b[0;34m(self)\u001b[0m\n\u001b[1;32m    474\u001b[0m \u001b[38;5;250m\u001b[39m\u001b[38;5;124;03m\"\"\"\u001b[39;00m\n\u001b[1;32m    475\u001b[0m \u001b[38;5;124;03mClose the 'physical' FITS file.\u001b[39;00m\n\u001b[1;32m    476\u001b[0m \u001b[38;5;124;03m\"\"\"\u001b[39;00m\n\u001b[1;32m    477\u001b[0m \u001b[38;5;28;01mif\u001b[39;00m \u001b[38;5;28mhasattr\u001b[39m(\u001b[38;5;28mself\u001b[39m\u001b[38;5;241m.\u001b[39m_file, \u001b[38;5;124m\"\u001b[39m\u001b[38;5;124mclose\u001b[39m\u001b[38;5;124m\"\u001b[39m):\n\u001b[0;32m--> 478\u001b[0m     \u001b[38;5;28mself\u001b[39m\u001b[38;5;241m.\u001b[39m_file\u001b[38;5;241m.\u001b[39mclose()\n\u001b[1;32m    480\u001b[0m \u001b[38;5;28mself\u001b[39m\u001b[38;5;241m.\u001b[39m_maybe_close_mmap()\n\u001b[1;32m    481\u001b[0m \u001b[38;5;66;03m# Set self._memmap to None anyways since no new .data attributes can be\u001b[39;00m\n\u001b[1;32m    482\u001b[0m \u001b[38;5;66;03m# loaded after the file is closed\u001b[39;00m\n",
      "File \u001b[0;32m~/miniconda3/envs/xhcd/lib/python3.12/gzip.py:356\u001b[0m, in \u001b[0;36mGzipFile.close\u001b[0;34m(self)\u001b[0m\n\u001b[1;32m    354\u001b[0m \u001b[38;5;28;01mtry\u001b[39;00m:\n\u001b[1;32m    355\u001b[0m     \u001b[38;5;28;01mif\u001b[39;00m \u001b[38;5;28mself\u001b[39m\u001b[38;5;241m.\u001b[39mmode \u001b[38;5;241m==\u001b[39m WRITE:\n\u001b[0;32m--> 356\u001b[0m         \u001b[38;5;28mself\u001b[39m\u001b[38;5;241m.\u001b[39m_buffer\u001b[38;5;241m.\u001b[39mflush()\n\u001b[1;32m    357\u001b[0m         fileobj\u001b[38;5;241m.\u001b[39mwrite(\u001b[38;5;28mself\u001b[39m\u001b[38;5;241m.\u001b[39mcompress\u001b[38;5;241m.\u001b[39mflush())\n\u001b[1;32m    358\u001b[0m         write32u(fileobj, \u001b[38;5;28mself\u001b[39m\u001b[38;5;241m.\u001b[39mcrc)\n",
      "File \u001b[0;32m~/miniconda3/envs/xhcd/lib/python3.12/gzip.py:130\u001b[0m, in \u001b[0;36m_WriteBufferStream.write\u001b[0;34m(self, data)\u001b[0m\n\u001b[1;32m    129\u001b[0m \u001b[38;5;28;01mdef\u001b[39;00m \u001b[38;5;21mwrite\u001b[39m(\u001b[38;5;28mself\u001b[39m, data):\n\u001b[0;32m--> 130\u001b[0m     \u001b[38;5;28;01mreturn\u001b[39;00m \u001b[38;5;28mself\u001b[39m\u001b[38;5;241m.\u001b[39mgzip_file\u001b[38;5;241m.\u001b[39m_write_raw(data)\n",
      "File \u001b[0;32m~/miniconda3/envs/xhcd/lib/python3.12/gzip.py:312\u001b[0m, in \u001b[0;36mGzipFile._write_raw\u001b[0;34m(self, data)\u001b[0m\n\u001b[1;32m    309\u001b[0m     length \u001b[38;5;241m=\u001b[39m data\u001b[38;5;241m.\u001b[39mnbytes\n\u001b[1;32m    311\u001b[0m \u001b[38;5;28;01mif\u001b[39;00m length \u001b[38;5;241m>\u001b[39m \u001b[38;5;241m0\u001b[39m:\n\u001b[0;32m--> 312\u001b[0m     \u001b[38;5;28mself\u001b[39m\u001b[38;5;241m.\u001b[39mfileobj\u001b[38;5;241m.\u001b[39mwrite(\u001b[38;5;28mself\u001b[39m\u001b[38;5;241m.\u001b[39mcompress\u001b[38;5;241m.\u001b[39mcompress(data))\n\u001b[1;32m    313\u001b[0m     \u001b[38;5;28mself\u001b[39m\u001b[38;5;241m.\u001b[39msize \u001b[38;5;241m+\u001b[39m\u001b[38;5;241m=\u001b[39m length\n\u001b[1;32m    314\u001b[0m     \u001b[38;5;28mself\u001b[39m\u001b[38;5;241m.\u001b[39mcrc \u001b[38;5;241m=\u001b[39m zlib\u001b[38;5;241m.\u001b[39mcrc32(data, \u001b[38;5;28mself\u001b[39m\u001b[38;5;241m.\u001b[39mcrc)\n",
      "\u001b[0;31mOSError\u001b[0m: [Errno 5] Input/output error"
     ]
    }
   ],
   "source": [
    "imager= events_imaging.BC_Imaging()\n",
    "\n",
    "\n",
    "for a in range(len(file_list)):\n",
    "    eventlist = Path(data_directory)/Path(file_list[a])\n",
    "    image = Path(image_directory)/Path(file_list[a])\n",
    "    imageOut = imager.evtlist2image(\n",
    "        eventlist, image\n",
    "    )"
   ]
  }
 ],
 "metadata": {
  "kernelspec": {
   "display_name": "xhcd",
   "language": "python",
   "name": "python3"
  },
  "language_info": {
   "codemirror_mode": {
    "name": "ipython",
    "version": 3
   },
   "file_extension": ".py",
   "mimetype": "text/x-python",
   "name": "python",
   "nbconvert_exporter": "python",
   "pygments_lexer": "ipython3",
   "version": "3.12.9"
  }
 },
 "nbformat": 4,
 "nbformat_minor": 5
}
