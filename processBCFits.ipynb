{
 "cells": [
  {
   "cell_type": "code",
   "execution_count": 1,
   "id": "d191dce6",
   "metadata": {},
   "outputs": [],
   "source": [
    "import numpy as np\n",
    "from astropy.modeling import models, fitting\n",
    "import matplotlib.pyplot as plt\n",
    "from pathlib import Path\n",
    "from astropy.io import fits\n",
    "from astropy.wcs import WCS\n",
    "import os\n",
    "import scipy.stats as stats\n",
    "import json\n",
    "import pandas as pd\n",
    "from fitsutil import *"
   ]
  },
  {
   "cell_type": "code",
   "execution_count": 2,
   "id": "ef3c498c",
   "metadata": {},
   "outputs": [],
   "source": [
    "eventPath = Path(\n",
    "    r\"Z:\\Astro_BlackCAT\\BlackCAT_Calibration_Data\\LC_Calibration_Data\\y2024-12-12\\BC057_Ti_FF_233_HORI_0_0\\Analysis\\imaging_analysis_20241213\\combined_events_th1_200.fits.gz\"\n",
    ")\n",
    "d = fits.open(eventPath)"
   ]
  },
  {
   "cell_type": "code",
   "execution_count": 3,
   "id": "2397bd14",
   "metadata": {},
   "outputs": [
    {
     "name": "stdout",
     "output_type": "stream",
     "text": [
      "<class 'astropy.io.fits.hdu.hdulist.HDUList'>\n"
     ]
    }
   ],
   "source": [
    "print(type(d))"
   ]
  },
  {
   "cell_type": "code",
   "execution_count": 3,
   "id": "8f0a2873",
   "metadata": {},
   "outputs": [],
   "source": [
    "noiseShelf, signal = splitEventList(d,700,\"sum\")"
   ]
  },
  {
   "cell_type": "code",
   "execution_count": 4,
   "id": "2d644930",
   "metadata": {},
   "outputs": [],
   "source": [
    "a,b = halfEventList(signal)"
   ]
  },
  {
   "cell_type": "code",
   "execution_count": 5,
   "id": "c947e1d5",
   "metadata": {},
   "outputs": [],
   "source": [
    "a = random_sample_events_list(a,1000)\n",
    "b = random_sample_events_list(b,1000)"
   ]
  },
  {
   "cell_type": "code",
   "execution_count": 6,
   "id": "ff006e2b",
   "metadata": {},
   "outputs": [],
   "source": [
    "noise = np.array(noiseShelf.data)\n"
   ]
  },
  {
   "cell_type": "code",
   "execution_count": 19,
   "id": "ecdbe5d5",
   "metadata": {},
   "outputs": [
    {
     "name": "stdout",
     "output_type": "stream",
     "text": [
      "518692\n"
     ]
    }
   ],
   "source": [
    "a.data = np.append(a.data,noise)\n",
    "print(len(a.data))"
   ]
  }
 ],
 "metadata": {
  "kernelspec": {
   "display_name": "xhcd",
   "language": "python",
   "name": "python3"
  },
  "language_info": {
   "codemirror_mode": {
    "name": "ipython",
    "version": 3
   },
   "file_extension": ".py",
   "mimetype": "text/x-python",
   "name": "python",
   "nbconvert_exporter": "python",
   "pygments_lexer": "ipython3",
   "version": "3.12.9"
  }
 },
 "nbformat": 4,
 "nbformat_minor": 5
}
