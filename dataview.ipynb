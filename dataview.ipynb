{
 "cells": [
  {
   "cell_type": "code",
   "execution_count": 68,
   "id": "2f5b0ccc",
   "metadata": {},
   "outputs": [],
   "source": [
    "\n",
    "import matplotlib.pyplot as plt\n",
    "from matplotlib.patches import Ellipse\n",
    "from pathlib import Path\n",
    "from astropy.io import fits\n",
    "import numpy as np"
   ]
  },
  {
   "cell_type": "code",
   "execution_count": null,
   "id": "e2474e22",
   "metadata": {},
   "outputs": [],
   "source": [
    "#datPath = Path(\"C:/Users/ajo5182/Documents/astro/psf/psf_source_localization/data/2dfit_test.npz\")\n",
    "datPath = Path(\"C:/Users/ajo5182/Documents/astro/psf/psf_source_localization/data/2dfit_2024_12_11.npz\")\n",
    "data = np.load(datPath, allow_pickle=True)"
   ]
  },
  {
   "cell_type": "code",
   "execution_count": 69,
   "id": "228bad1c",
   "metadata": {},
   "outputs": [],
   "source": [
    "#Load data and covariance matrices from disk\n",
    "data_2024_12_09 = np.load('data/2dfit_2024_12_09.npz',allow_pickle = True)\n",
    "covMat_2024_12_09 =np.load('data/covMatrix_2024_12_09.npz', allow_pickle = True)\n",
    "\n",
    "data_2024_12_10 = np.load('data/2dfit_2024_12_10.npz',allow_pickle = True)\n",
    "covMat_2024_12_10 =np.load('data/covMatrix_2024_12_10.npz', allow_pickle = True)\n",
    "\n",
    "data_2024_12_11 = np.load('data/2dfit_2024_12_11.npz',allow_pickle = True)\n",
    "covMat_2024_12_11 =np.load('data/covMatrix_2024_12_11.npz', allow_pickle = True)\n",
    "\n",
    "data_2024_12_12 = np.load('data/2dfit_2024_12_12.npz',allow_pickle = True)\n",
    "covMat_2024_12_12 =np.load('data/covMatrix_2024_12_12.npz', allow_pickle = True)\n",
    "\n",
    "data_2024_12_13 = np.load('data/2dfit_2024_12_13.npz',allow_pickle = True)\n",
    "covMat_2024_12_13 =np.load('data/covMatrix_2024_12_13.npz', allow_pickle = True)\n",
    "\n",
    "data_2024_12_14 = np.load('data/2dfit_2024_12_14.npz',allow_pickle = True)\n",
    "covMat_2024_12_14 =np.load('data/covMatrix_2024_12_14.npz', allow_pickle = True)\n",
    "\n",
    "data_2024_12_16 = np.load('data/2dfit_2024_12_16.npz',allow_pickle = True)\n",
    "covMat_2024_12_16 =np.load('data/covMatrix_2024_12_16.npz', allow_pickle = True)\n",
    "\n",
    "data_2024_12_17 = np.load('data/2dfit_2024_12_17.npz',allow_pickle = True)\n",
    "covMat_2024_12_17 =np.load('data/covMatrix_2024_12_17.npz', allow_pickle = True)"
   ]
  },
  {
   "cell_type": "code",
   "execution_count": 137,
   "id": "18acfb78",
   "metadata": {},
   "outputs": [],
   "source": [
    "run = np.concatenate((np.array(data_2024_12_09['run']),np.array(data_2024_12_10['run']),np.array(data_2024_12_11['run']),\n",
    "                   np.array(data_2024_12_12['run']),np.array(data_2024_12_13['run']),np.array(data_2024_12_14['run']),\n",
    "                   np.array(data_2024_12_16['run']),np.array(data_2024_12_17['run']) ))\n",
    "\n",
    "anode = np.concatenate((np.array(data_2024_12_09['anode']),np.array(data_2024_12_10['anode']),np.array(data_2024_12_11['anode']),\n",
    "                   np.array(data_2024_12_12['anode']),np.array(data_2024_12_13['anode']),np.array(data_2024_12_14['anode']),\n",
    "                   np.array(data_2024_12_16['anode']),np.array(data_2024_12_17['anode']) ))\n",
    "\n",
    "detectorMode = np.concatenate((np.array(data_2024_12_09['detectorMode']),np.array(data_2024_12_10['detectorMode']),np.array(data_2024_12_11['detectorMode']),\n",
    "                   np.array(data_2024_12_12['detectorMode']),np.array(data_2024_12_13['detectorMode']),np.array(data_2024_12_14['detectorMode']),\n",
    "                   np.array(data_2024_12_16['detectorMode']),np.array(data_2024_12_17['detectorMode']) ))\n",
    "\n",
    "sweep =  np.concatenate((np.array(data_2024_12_09['sweep']),np.array(data_2024_12_10['sweep']),np.array(data_2024_12_11['sweep']),\n",
    "                   np.array(data_2024_12_12['sweep']),np.array(data_2024_12_13['sweep']),np.array(data_2024_12_14['sweep']),\n",
    "                   np.array(data_2024_12_16['sweep']),np.array(data_2024_12_17['sweep']) ))\n",
    "\n",
    "hTheta = np.concatenate((np.array(data_2024_12_09['hTheta']),np.array(data_2024_12_10['hTheta']),np.array(data_2024_12_11['hTheta']),\n",
    "                   np.array(data_2024_12_12['hTheta']),np.array(data_2024_12_13['hTheta']),np.array(data_2024_12_14['hTheta']),\n",
    "                   np.array(data_2024_12_16['hTheta']),np.array(data_2024_12_17['hTheta']) ))\n",
    "\n",
    "vTheta = np.concatenate((np.array(data_2024_12_09['vTheta']),np.array(data_2024_12_10['vTheta']),np.array(data_2024_12_11['vTheta']),\n",
    "                   np.array(data_2024_12_12['vTheta']),np.array(data_2024_12_13['vTheta']),np.array(data_2024_12_14['vTheta']),\n",
    "                   np.array(data_2024_12_16['vTheta']),np.array(data_2024_12_17['vTheta']) ))\n",
    "\n",
    "xSigma = np.concatenate((np.array(data_2024_12_09['xSigma']),np.array(data_2024_12_10['xSigma']),np.array(data_2024_12_11['xSigma']),\n",
    "                   np.array(data_2024_12_12['xSigma']),np.array(data_2024_12_13['xSigma']),np.array(data_2024_12_14['xSigma']),\n",
    "                   np.array(data_2024_12_16['xSigma']),np.array(data_2024_12_17['xSigma']) ))\n",
    "\n",
    "ySigma = np.concatenate((np.array(data_2024_12_09['ySigma']),np.array(data_2024_12_10['ySigma']),np.array(data_2024_12_11['ySigma']),\n",
    "                   np.array(data_2024_12_12['ySigma']),np.array(data_2024_12_13['ySigma']),np.array(data_2024_12_14['ySigma']),\n",
    "                   np.array(data_2024_12_16['ySigma']),np.array(data_2024_12_17['ySigma']) ))\n",
    "\n",
    "xMean = np.concatenate((np.array(data_2024_12_09['xMean']),np.array(data_2024_12_10['xMean']),np.array(data_2024_12_11['xMean']),\n",
    "                   np.array(data_2024_12_12['xMean']),np.array(data_2024_12_13['xMean']),np.array(data_2024_12_14['xMean']),\n",
    "                   np.array(data_2024_12_16['xMean']),np.array(data_2024_12_17['xMean']) ))\n",
    "\n",
    "yMean = np.concatenate((np.array(data_2024_12_09['yMean']),np.array(data_2024_12_10['yMean']),np.array(data_2024_12_11['yMean']),\n",
    "                   np.array(data_2024_12_12['yMean']),np.array(data_2024_12_13['yMean']),np.array(data_2024_12_14['yMean']),\n",
    "                   np.array(data_2024_12_16['yMean']),np.array(data_2024_12_17['yMean']) ))\n",
    "\n",
    "angle = np.concatenate((np.array(data_2024_12_09['theta']),np.array(data_2024_12_10['theta']),np.array(data_2024_12_11['theta']),\n",
    "                   np.array(data_2024_12_12['theta']),np.array(data_2024_12_13['theta']),np.array(data_2024_12_14['theta']),\n",
    "                   np.array(data_2024_12_16['theta']),np.array(data_2024_12_17['theta']) ))\n",
    "\n",
    "valid_peak = np.concatenate((np.array(data_2024_12_09['validPeak']),np.array(data_2024_12_10['validPeak']),np.array(data_2024_12_11['validPeak']),\n",
    "                   np.array(data_2024_12_12['validPeak']),np.array(data_2024_12_13['validPeak']),np.array(data_2024_12_14['validPeak']),\n",
    "                   np.array(data_2024_12_16['validPeak']),np.array(data_2024_12_17['validPeak']) ))\n",
    "run_name = (str(run)+'_'+str(anode)+'_'+str(detectorMode)+'_'+\n",
    "            str(sweep)+'_'+str(vTheta)+'_'+str(hTheta))\n",
    "\n",
    "np.savez(\"data/full_data\",run=run, anode=anode, detectorMode=detectorMode, \n",
    "         sweep=sweep, hTheta=hTheta, vTheta=vTheta, \n",
    "         xMean=xMean, xSigma=xSigma, \n",
    "         yMean=yMean, ySigma=ySigma, theta=angle)\n"
   ]
  },
  {
   "cell_type": "code",
   "execution_count": 142,
   "id": "22a5c8fa",
   "metadata": {},
   "outputs": [
    {
     "data": {
      "text/plain": [
       "(6, 6)"
      ]
     },
     "execution_count": 142,
     "metadata": {},
     "output_type": "execute_result"
    }
   ],
   "source": [
    "covMat = np.concatenate((np.array(covMat_2024_12_09['arr_0']),np.array(covMat_2024_12_10['arr_0']),np.array(covMat_2024_12_11['arr_0']),\n",
    "                   np.array(covMat_2024_12_12['arr_0']),np.array(covMat_2024_12_13['arr_0']),np.array(covMat_2024_12_14['arr_0']),\n",
    "                   np.array(covMat_2024_12_16['arr_0']),np.array(covMat_2024_12_17['arr_0']) ))\n",
    "covMat[1].shape"
   ]
  },
  {
   "cell_type": "code",
   "execution_count": null,
   "id": "d1188391",
   "metadata": {},
   "outputs": [],
   "source": [
    "test = run_name[valid_peak == 'True']"
   ]
  },
  {
   "cell_type": "code",
   "execution_count": null,
   "id": "ab119eef",
   "metadata": {},
   "outputs": [
    {
     "ename": "ValueError",
     "evalue": "The truth value of an array with more than one element is ambiguous. Use a.any() or a.all()",
     "output_type": "error",
     "traceback": [
      "\u001b[1;31m---------------------------------------------------------------------------\u001b[0m",
      "\u001b[1;31mValueError\u001b[0m                                Traceback (most recent call last)",
      "Cell \u001b[1;32mIn[139], line 7\u001b[0m\n\u001b[0;32m      5\u001b[0m angle \u001b[38;5;241m=\u001b[39m angle[angle\u001b[38;5;241m!=\u001b[39m np\u001b[38;5;241m.\u001b[39marray(\u001b[38;5;28;01mNone\u001b[39;00m)]\n\u001b[0;32m      6\u001b[0m \u001b[38;5;66;03m#run_name = run_name[valid_peak != False]\u001b[39;00m\n\u001b[1;32m----> 7\u001b[0m covMat \u001b[38;5;241m=\u001b[39m covMat[\u001b[43mvalid_peak\u001b[49m\u001b[43m \u001b[49m\u001b[38;5;241;43m!=\u001b[39;49m\u001b[43m \u001b[49m\u001b[38;5;124;43m\"\u001b[39;49m\u001b[38;5;124;43mFalse\u001b[39;49m\u001b[38;5;124;43m\"\u001b[39;49m\u001b[43m \u001b[49m\u001b[38;5;129;43;01mor\u001b[39;49;00m\u001b[43m \u001b[49m\u001b[43myMean\u001b[49m\u001b[38;5;241;43m!=\u001b[39;49m\u001b[43m \u001b[49m\u001b[38;5;28;43;01mNone\u001b[39;49;00m]\n",
      "\u001b[1;31mValueError\u001b[0m: The truth value of an array with more than one element is ambiguous. Use a.any() or a.all()"
     ]
    }
   ],
   "source": [
    "xSigma = xSigma[xSigma != np.array(None)]\n",
    "ySigma = ySigma[ySigma != np.array(None)]\n",
    "xMean = xMean[xMean != np.array(None)]\n",
    "yMean = yMean[yMean != np.array(None)]\n",
    "angle = angle[angle!= np.array(None)]\n",
    "#run_name = run_name[valid_peak != False]\n",
    "\n"
   ]
  },
  {
   "cell_type": "code",
   "execution_count": 143,
   "id": "bbd99566",
   "metadata": {},
   "outputs": [
    {
     "ename": "AttributeError",
     "evalue": "'numpy.ndarray' object has no attribute 'pop'",
     "output_type": "error",
     "traceback": [
      "\u001b[1;31m---------------------------------------------------------------------------\u001b[0m",
      "\u001b[1;31mAttributeError\u001b[0m                            Traceback (most recent call last)",
      "Cell \u001b[1;32mIn[143], line 2\u001b[0m\n\u001b[0;32m      1\u001b[0m covMat \u001b[38;5;241m=\u001b[39m covMat[valid_peak \u001b[38;5;241m!=\u001b[39m \u001b[38;5;124m\"\u001b[39m\u001b[38;5;124mFalse\u001b[39m\u001b[38;5;124m\"\u001b[39m]\n\u001b[1;32m----> 2\u001b[0m \u001b[43mcovMat\u001b[49m\u001b[38;5;241;43m.\u001b[39;49m\u001b[43mpop\u001b[49m(\u001b[38;5;241m162\u001b[39m)\n",
      "\u001b[1;31mAttributeError\u001b[0m: 'numpy.ndarray' object has no attribute 'pop'"
     ]
    }
   ],
   "source": [
    "covMat = covMat[valid_peak != \"False\"]\n",
    "covMat.pop(162)"
   ]
  },
  {
   "cell_type": "code",
   "execution_count": 127,
   "id": "d3b6919b",
   "metadata": {},
   "outputs": [],
   "source": [
    "xfwhm = 2.35*np.array(xSigma)\n",
    "yfwhm = 2.35*np.array(ySigma)"
   ]
  },
  {
   "cell_type": "code",
   "execution_count": 121,
   "id": "872286e5",
   "metadata": {},
   "outputs": [],
   "source": [
    "imPixelSizeX = 0.0149 # pixel size degrees\n",
    "imPixelSizeY = 0.0149 # pixel size degrees\n",
    "shapey = 3137\n",
    "shapex = 5585\n",
    "y = imPixelSizeY * np.linspace((shapey-1)/-2,(shapey-1)/2, shapey) # create array from -23 deg to 23 deg, centered on zero\n",
    "x = imPixelSizeX * np.linspace((shapex-1)/-2,(shapex-1)/2, shapex) # create array from -41 deg to 41 deg, centered on zero\n",
    "\n"
   ]
  },
  {
   "cell_type": "code",
   "execution_count": 92,
   "id": "074c3fd0",
   "metadata": {},
   "outputs": [
    {
     "data": {
      "image/png": "[encoded data removed]",
      "text/plain": [
       "<Figure size 640x480 with 1 Axes>"
      ]
     },
     "metadata": {},
     "output_type": "display_data"
    }
   ],
   "source": [
    "mag = 2 # increase fwhm so its easier to see\n",
    "\n",
    "ells =  [Ellipse(xy= (1*xMean[i],1*yMean[i]),width=mag*xfwhm[i],height=mag*yfwhm[i], angle= mag*angle[i]) for i in range(len(xfwhm))]\n",
    "i = 0\n",
    "fig, ax = plt.subplots()\n",
    "ax.set(xlim=(-41, 41), ylim=(-23,23 ), aspect=\"equal\")\n",
    "for e in ells:\n",
    "    #print(i)\n",
    "    #ax.legend(e,run_name)\n",
    "    #ax.add_artist(e)\n",
    "    ax.add_patch(e)\n",
    "    e.set(clip_box=ax.bbox, alpha=1, facecolor=np.random.rand(3), label=run_name[i])\n",
    "    i = i+1\n",
    "#ax.legend\n",
    "#ax.legend(bbox_to_anchor=(1.05, 1.0), loc='upper left')"
   ]
  },
  {
   "cell_type": "code",
   "execution_count": 94,
   "id": "6715c877",
   "metadata": {},
   "outputs": [
    {
     "data": {
      "text/plain": [
       "(array([  9.,  53., 183.,  56.,  14.,   1.,   1.,   1.,   0.,   1.]),\n",
       " array([0.11574049, 0.13209603, 0.14845157, 0.16480712, 0.18116266,\n",
       "        0.1975182 , 0.21387374, 0.23022928, 0.24658482, 0.26294037,\n",
       "        0.27929591]),\n",
       " <BarContainer object of 10 artists>)"
      ]
     },
     "execution_count": 94,
     "metadata": {},
     "output_type": "execute_result"
    },
    {
     "data": {
      "image/png": "[encoded data removed]",
      "text/plain": [
       "<Figure size 640x480 with 1 Axes>"
      ]
     },
     "metadata": {},
     "output_type": "display_data"
    }
   ],
   "source": [
    "plt.hist(xfwhm)\n",
    "plt.hist(yfwhm)\n"
   ]
  },
  {
   "cell_type": "code",
   "execution_count": 128,
   "id": "7b646bdd",
   "metadata": {},
   "outputs": [
    {
     "data": {
      "text/plain": [
       "(array([  3.,   6.,   0.,  26., 279.,   2.,   2.,   0.,   0.,   1.]),\n",
       " array([-3.92337173, -2.9663484 , -2.00932507, -1.05230174, -0.0952784 ,\n",
       "         0.86174493,  1.81876826,  2.77579159,  3.73281493,  4.68983826,\n",
       "         5.64686159]),\n",
       " <BarContainer object of 10 artists>)"
      ]
     },
     "execution_count": 128,
     "metadata": {},
     "output_type": "execute_result"
    },
    {
     "data": {
      "image/png": "[encoded data removed]",
      "text/plain": [
       "<Figure size 640x480 with 1 Axes>"
      ]
     },
     "metadata": {},
     "output_type": "display_data"
    }
   ],
   "source": [
    "plt.hist(angle)"
   ]
  },
  {
   "cell_type": "code",
   "execution_count": 136,
   "id": "8afc6a2b",
   "metadata": {},
   "outputs": [
    {
     "data": {
      "text/plain": [
       "array([], shape=(0, 320), dtype=object)"
      ]
     },
     "execution_count": 136,
     "metadata": {},
     "output_type": "execute_result"
    }
   ],
   "source": [
    "out = (range(0,covMat.shape[0]))\n",
    "(covMat[covMat.any == None])\n"
   ]
  },
  {
   "cell_type": "code",
   "execution_count": null,
   "id": "4b48496e",
   "metadata": {},
   "outputs": [],
   "source": [
    "aError = [np.nan]*len(covMat)\n",
    "xMean_error = [np.nan]*len(covMat)\n",
    "yMean_error = [np.nan]*len(covMat)\n",
    "xSigma_error = [np.nan]*len(covMat)\n",
    "ySigma_error = [np.nan]*len(covMat)\n",
    "angle_error = [np.nan]*len(covMat)"
   ]
  },
  {
   "cell_type": "code",
   "execution_count": null,
   "id": "2409e4be",
   "metadata": {},
   "outputs": [
    {
     "name": "stdout",
     "output_type": "stream",
     "text": [
      "[np.float64(448.3353456880965), np.float64(402.24324632994507), np.float64(376.7068611921457), np.float64(333.3356004009783), np.float64(259.06670749916583), np.float64(54.18448615134485), np.float64(395.26719091375355), np.float64(467.4118345520038), np.float64(446.68322580583435), np.float64(412.365311270941), np.float64(243.88920340619234), np.float64(64.33884279515651), np.float64(539.480047309207), np.float64(248.22294186862126), np.float64(303.5481176266803), np.float64(174.37459065099677), np.float64(284.2620426635317), np.float64(72.26466836054985), np.float64(145.78266448131524), np.float64(49.31939195716638), np.float64(111.05924971233668), np.float64(88.12069197886501), np.float64(124.70565357045761), np.float64(164.21138174455513), np.float64(102.29200426647968), np.float64(147.6474148015974), np.float64(49.83769976176343), np.float64(110.87849766148719), np.float64(120.27409695836442), np.float64(113.45301344841008), np.float64(167.44428383146908), np.float64(318.54511901811577), np.float64(282.3164304561625), np.float64(153.196632528082), np.float64(225.30022072878518), np.float64(251.78927466799584), np.float64(211.03434232055832), np.float64(306.2748720726849), np.float64(359.2189544310536), np.float64(245.0517486011414), np.float64(326.590602613152), np.float64(180.47480728183456), np.float64(192.10862014317385), np.float64(245.89900815889223), np.float64(186.51597145542814), np.float64(33.734337323729726), np.float64(90.05301119856567), np.float64(85.6773226959657), np.float64(1306.3264438079186), np.float64(1292.9333326265769), np.float64(1169.799624757561), np.float64(1155.3376192867045), np.float64(725.4019608040024), np.float64(58.8443616164434), np.float64(1285.9771483580564), np.float64(1053.5405301725339), np.float64(1063.2184636879297), np.float64(1104.5385042995822), np.float64(1305.0967170729916), np.float64(1294.5969190042795), np.float64(184.38422275220904), np.float64(1106.7371215231349), np.float64(1159.0689145498757), np.float64(1120.928349137133), np.float64(511.1216231825325), np.float64(295.6608691830557), np.float64(584.108559568102), np.float64(444.76521284981243), np.float64(516.4941665389177), np.float64(311.4582783596822), np.float64(172.19630139401968), np.float64(371.3434661297247), np.float64(221.99699043939083), np.float64(255.01833137185676), np.float64(533.0408784369472), np.float64(403.6349223750659), np.float64(612.1050007553387), np.float64(407.6814015297895), np.float64(493.64695632966124), np.float64(632.093394701823), np.float64(429.6305804092248), np.float64(527.1966967699618), np.float64(433.29359227548963), np.float64(516.7616505466048), np.float64(342.2706904500679), np.float64(137.32275424856442), np.float64(333.36292844631686), np.float64(256.99698966081564), np.float64(293.10190717130473), np.float64(703.1501222863047), np.float64(401.02018717819686), np.float64(722.0849035712058), np.float64(384.4200066810675), np.float64(604.4521329665049), np.float64(364.52025844961145), np.float64(299.7737948279345), np.float64(179.3677054734759), np.float64(311.3964334392843), np.float64(341.99266393617523), np.float64(217.37920975877168), np.float64(426.6840516939923), np.float64(331.15178116381026), np.float64(211.6927697447939), np.float64(340.3161863146374), np.float64(226.50573141565442), np.float64(286.8651631083654), np.float64(162.8463704912159), np.float64(228.58412650833972), np.float64(211.04018398412308), np.float64(180.9768346696896), np.float64(274.1305026208083), np.float64(239.874407430564), np.float64(203.93446714167143), np.float64(193.1886263055395), np.float64(451.94359823231065), np.float64(459.58013566615875), np.float64(416.32081162438), np.float64(531.6454124901597), np.float64(555.6291724183383), np.float64(175.29241485923907), np.float64(87.4793068055839), np.float64(694.6388929281687), np.float64(601.8585099559009), np.float64(554.2554065531862), np.float64(455.6875410466511), np.float64(337.9574228806253), np.float64(60.692991342029224), np.float64(580.6018018783594), np.float64(690.0728953706899), np.float64(609.3940086910234), np.float64(611.786925536107), np.float64(372.7606805606647), np.float64(76.01860327916867), np.float64(683.1834778181931), np.float64(351.35214199796684), np.float64(195.8401921346364), np.float64(423.75342473608634), np.float64(326.1936814788127), np.float64(285.2181729132397), np.float64(350.66828158408634), np.float64(442.60856765139005), np.float64(237.15360543612024), np.float64(204.09377880972812), np.float64(245.51477691044354), np.float64(152.47021467048384), np.float64(87.76256025433884), np.float64(168.0103437366313), np.float64(262.0006654961545), np.float64(183.9932344914332), np.float64(286.3388928326698), nan, nan, nan, nan, nan, nan, nan, nan, nan, nan, nan, nan, nan, nan, nan, nan, nan, nan, nan, nan, nan, nan, nan, nan, nan, nan, nan, nan, nan, nan, nan, nan, nan, nan, nan, nan, nan, nan, nan, nan, nan, nan, nan, nan, nan, nan, nan, nan, nan, nan, nan, nan, nan, nan, nan, nan, nan, nan, nan, nan, nan, nan, nan, nan, nan, nan, nan, nan, nan, nan, nan, nan, nan, nan, nan, nan, nan, nan, nan, nan, nan, nan, nan, nan, nan, nan, nan, nan, nan, nan, nan, nan, nan, nan, nan, nan, nan, nan, nan, nan, nan, nan, nan, nan, nan, nan, nan, nan, nan, nan, nan, nan, nan, nan, nan, nan, nan, nan, nan, nan, nan, nan, nan, nan, nan, nan, nan, nan, nan, nan, nan, nan, nan, nan, nan, nan, nan, nan, nan, nan, nan, nan, nan, nan, nan, nan, nan, nan, nan, nan, nan, nan, nan, nan, nan, nan, nan, nan, nan, nan, nan, nan, nan, nan, nan, nan, nan, nan, nan, nan]\n"
     ]
    }
   ],
   "source": [
    "# iterate through the covariance matrices to determine the error on each parameter\n",
    "# cov_matrix = fitter.fit_info.get('param_cov')\n",
    "# if cov_matrix is not None:\n",
    "#    param_names = g_fit.param_names\n",
    "#    param_errors = np.sqrt(np.diag(cov_matrix))\n",
    "#\n",
    "#    for name, err in zip(param_names, param_errors):\n",
    "#        print(f\"{name}: {getattr(g_fit, name).value:.4f} ± {err:.4f}\")\n",
    "#\n",
    "\n",
    "for q in range(0, 150):\n",
    "        aError[q], xMean_error[q], yMean_error[q], xSigma_error[q],ySigma_error[q],angle_error[q] = np.sqrt(np.diag(covMat[q]))\n",
    "print(aError)\n",
    "\n"
   ]
  },
  {
   "cell_type": "code",
   "execution_count": null,
   "id": "4dc8c443",
   "metadata": {},
   "outputs": [],
   "source": [
    "param_names = g_fit.param_names\n",
    "    param_errors = np.sqrt(np.diag(cov_matrix))\n",
    "\n",
    "    for name, err in zip(param_names, param_errors):\n",
    "        print(f\"{name}: {getattr(g_fit, name).value:.4f} ± {err:.4f}\")"
   ]
  }
 ],
 "metadata": {
  "kernelspec": {
   "display_name": "xhcd",
   "language": "python",
   "name": "python3"
  },
  "language_info": {
   "codemirror_mode": {
    "name": "ipython",
    "version": 3
   },
   "file_extension": ".py",
   "mimetype": "text/x-python",
   "name": "python",
   "nbconvert_exporter": "python",
   "pygments_lexer": "ipython3",
   "version": "3.12.9"
  }
 },
 "nbformat": 4,
 "nbformat_minor": 5
}
