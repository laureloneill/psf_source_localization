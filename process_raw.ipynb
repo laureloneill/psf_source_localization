{
 "cells": [
  {
   "cell_type": "code",
   "execution_count": 1,
   "id": "75a3a1f6",
   "metadata": {},
   "outputs": [
    {
     "ename": "ModuleNotFoundError",
     "evalue": "No module named 'xraysky'",
     "output_type": "error",
     "traceback": [
      "\u001b[1;31m---------------------------------------------------------------------------\u001b[0m",
      "\u001b[1;31mModuleNotFoundError\u001b[0m                       Traceback (most recent call last)",
      "Cell \u001b[1;32mIn[1], line 15\u001b[0m\n\u001b[0;32m     12\u001b[0m \u001b[38;5;28;01mfrom\u001b[39;00m\u001b[38;5;250m \u001b[39m\u001b[38;5;21;01mxhcd\u001b[39;00m\u001b[38;5;21;01m.\u001b[39;00m\u001b[38;5;21;01mspeedster\u001b[39;00m\u001b[38;5;21;01m.\u001b[39;00m\u001b[38;5;21;01mrunFe55Analysis\u001b[39;00m\u001b[38;5;250m \u001b[39m\u001b[38;5;28;01mimport\u001b[39;00m Fe55Analysis\n\u001b[0;32m     13\u001b[0m \u001b[38;5;28;01mfrom\u001b[39;00m\u001b[38;5;250m \u001b[39m\u001b[38;5;21;01mxhcd\u001b[39;00m\u001b[38;5;21;01m.\u001b[39;00m\u001b[38;5;21;01mcore\u001b[39;00m\u001b[38;5;250m \u001b[39m\u001b[38;5;28;01mimport\u001b[39;00m Spectrum\n\u001b[1;32m---> 15\u001b[0m \u001b[38;5;28;01mfrom\u001b[39;00m\u001b[38;5;250m \u001b[39m\u001b[38;5;21;01mmodified_bc_imaging_analysis\u001b[39;00m\u001b[38;5;250m \u001b[39m\u001b[38;5;28;01mimport\u001b[39;00m imaging_analysis\n\u001b[0;32m     18\u001b[0m \u001b[38;5;66;03m#set plotting parameters \u001b[39;00m\n\u001b[0;32m     19\u001b[0m sns\u001b[38;5;241m.\u001b[39mset_style(\u001b[38;5;124m\"\u001b[39m\u001b[38;5;124mticks\u001b[39m\u001b[38;5;124m\"\u001b[39m) \u001b[38;5;66;03m#set style of axis and other things \u001b[39;00m\n",
      "File \u001b[1;32mc:\\Users\\ajo5182\\Documents\\astro\\psf\\psf_source_localization\\modified_bc_imaging_analysis.py:9\u001b[0m\n\u001b[0;32m      6\u001b[0m \u001b[38;5;28;01mimport\u001b[39;00m\u001b[38;5;250m \u001b[39m\u001b[38;5;21;01mjson\u001b[39;00m\n\u001b[0;32m      8\u001b[0m \u001b[38;5;28;01mfrom\u001b[39;00m\u001b[38;5;250m \u001b[39m\u001b[38;5;21;01mxhcd\u001b[39;00m\u001b[38;5;21;01m.\u001b[39;00m\u001b[38;5;21;01mblackcat\u001b[39;00m\u001b[38;5;250m \u001b[39m\u001b[38;5;28;01mimport\u001b[39;00m calibrationAnalysis\n\u001b[1;32m----> 9\u001b[0m \u001b[38;5;28;01mfrom\u001b[39;00m\u001b[38;5;250m \u001b[39m\u001b[38;5;21;01mxraysky\u001b[39;00m\u001b[38;5;21;01m.\u001b[39;00m\u001b[38;5;21;01mscripts\u001b[39;00m\u001b[38;5;250m \u001b[39m\u001b[38;5;28;01mimport\u001b[39;00m events_imaging\n\u001b[0;32m     13\u001b[0m \u001b[38;5;28;01mdef\u001b[39;00m\u001b[38;5;250m \u001b[39m\u001b[38;5;21mimaging_analysis\u001b[39m(\n\u001b[0;32m     14\u001b[0m     analysis_dir,\n\u001b[0;32m     15\u001b[0m     data_dir,\n\u001b[1;32m   (...)\u001b[0m\n\u001b[0;32m     20\u001b[0m     \n\u001b[0;32m     21\u001b[0m ):\n\u001b[0;32m     23\u001b[0m     basedir \u001b[38;5;241m=\u001b[39m Path(analysis_dir)\n",
      "\u001b[1;31mModuleNotFoundError\u001b[0m: No module named 'xraysky'"
     ]
    }
   ],
   "source": [
    "%matplotlib inline\n",
    "import xhcd\n",
    "from pathlib import Path\n",
    "from astropy.io import fits\n",
    "import matplotlib.pyplot as plt\n",
    "import seaborn as sns\n",
    "\n",
    "\n",
    "# !!! You will have to edit the path to the xhcd code to match your computer...\n",
    "from xhcd.speedster.runEventAnalysis import EventAnalysis\n",
    "from xhcd.speedster.runSweepAnalysis import SweepAnalysis\n",
    "from xhcd.speedster.runFe55Analysis import Fe55Analysis\n",
    "from xhcd.core import Spectrum\n",
    "\n",
    "from modified_bc_imaging_analysis import imaging_analysis\n",
    "\n",
    "\n",
    "#set plotting parameters \n",
    "sns.set_style(\"ticks\") #set style of axis and other things \n",
    "sns.set_context(\"paper\", font_scale=1.2) #set scaling of text, default line sizes, etc., might need to make fonts larger than default, scale up slightly \n",
    "\n",
    "#plt.rc('text', usetex=True) #use latex (if installed) to make plots look nicer\n",
    "plt.rc('font', family=\"serif\") #change font style to match closer to paper style\n",
    "\n",
    "colors = sns.color_palette(\"colorblind\") #color palette to use; this is a good one to ensure plots are colorblind friendly; I tend to use black lines on plots with only a single line\n"
   ]
  },
  {
   "cell_type": "code",
   "execution_count": null,
   "id": "6b6d4163",
   "metadata": {},
   "outputs": [],
   "source": [
    "# Using Path from Pathlib you can define the path to the X-ray data:\n",
    "# basedir = Path('Path/to/data_folder')\n",
    "# Filedir = Path('data_folder') \n",
    "#Example:\n",
    "basedir = Path(\"Z:\\Astro_BlackCAT\\BlackCAT_Calibration_Data\\LC_Calibration_Data\\Raw Long Cell Data\\Test\")\n",
    "Filedir = Path('s23200') \n",
    "\n",
    "# Load the analysis class:\n",
    "analysis = EventAnalysis(basedir/Filedir, source='Al')\n",
    "\n"
   ]
  },
  {
   "cell_type": "code",
   "execution_count": null,
   "id": "9d450b9e",
   "metadata": {},
   "outputs": [],
   "source": [
    "# Using the subtract function, remove fixed pattern noise and any global offsets between frames:\n",
    "\n",
    "analysis.subtract(boxcar=False, subtract_mean=True, dark_prefix='Dark', dark_only=False)\n",
    "\n"
   ]
  },
  {
   "cell_type": "code",
   "execution_count": null,
   "id": "fde94571",
   "metadata": {},
   "outputs": [],
   "source": [
    "Th1 = 100\n",
    "\n",
    "analysis.findEvents(th1=Th1, reef=False)"
   ]
  },
  {
   "cell_type": "code",
   "execution_count": null,
   "id": "bee0aab7",
   "metadata": {},
   "outputs": [],
   "source": [
    "Th2 = 30\n",
    "peak_estimate = 1200\n",
    "\n",
    "bpmask = Path(\"Z:/Astro_BlackCAT/BlackCAT_Calibration_Data/Badpixel_Analysis/Bad_Pixel_Masks/s23056/Flight_badpix_RTN_40e_233K_25V_Full_Frame.fits\")\n",
    "gain_map = Path(\"Z:/Astro_X_Ray/HCD_Data/Speedster_data/Speedster550_data/s23056/gainmaps/Flight_gainmap_233K_25V_Full_Frame.fits\")\n",
    "#Example:\n",
    "#bpmask = Path('/storage/home/lrs5694/research/s23200/test_bpmask.fits')\n",
    "#gain_map = Path('/gpfs/group/ECoS/default/mow5307/Astro_X_Ray/HCD_Data/Speedster_data/Speedster550_data/s23200/gainmaps/gainmap_comp_on_gain1_gaussian_25V_213K.fits')\n",
    "\n",
    "spec = analysis.runSpectralAnalysis(th2=Th2, edgecut=10, badpix_map=bpmask, gain_map=gain_map, ramp=False, energy=None, peak_estimate=peak_estimate)"
   ]
  },
  {
   "cell_type": "code",
   "execution_count": null,
   "id": "034fa07f",
   "metadata": {},
   "outputs": [
    {
     "ename": "KeyError",
     "evalue": "\"Keyword 'TH1' not found.\"",
     "output_type": "error",
     "traceback": [
      "\u001b[1;31m---------------------------------------------------------------------------\u001b[0m",
      "\u001b[1;31mKeyError\u001b[0m                                  Traceback (most recent call last)",
      "Cell \u001b[1;32mIn[2], line 1\u001b[0m\n\u001b[1;32m----> 1\u001b[0m test_evnt \u001b[38;5;241m=\u001b[39m \u001b[43mSpectrum\u001b[49m\u001b[43m(\u001b[49m\u001b[38;5;124;43mr\u001b[39;49m\u001b[38;5;124;43m\"\u001b[39;49m\u001b[38;5;124;43mZ:\u001b[39;49m\u001b[38;5;124;43m\\\u001b[39;49m\u001b[38;5;124;43mAstro_BlackCAT\u001b[39;49m\u001b[38;5;124;43m\\\u001b[39;49m\u001b[38;5;124;43mBlackCAT_Calibration_Data\u001b[39;49m\u001b[38;5;124;43m\\\u001b[39;49m\u001b[38;5;124;43mLC_Calibration_Data\u001b[39;49m\u001b[38;5;124;43m\\\u001b[39;49m\u001b[38;5;124;43mRaw Long Cell Data\u001b[39;49m\u001b[38;5;124;43m\\\u001b[39;49m\u001b[38;5;124;43my2024-12-09\u001b[39;49m\u001b[38;5;124;43m\\\u001b[39;49m\u001b[38;5;124;43mBC001_Al_FF_243K_HORI_0_0\u001b[39;49m\u001b[38;5;124;43m\\\u001b[39;49m\u001b[38;5;124;43ms23056\u001b[39;49m\u001b[38;5;124;43m\\\u001b[39;49m\u001b[38;5;124;43mAl_reg__0000_0x0000_B1.fits.fz\u001b[39;49m\u001b[38;5;124;43m\"\u001b[39;49m\u001b[43m)\u001b[49m\n",
      "File \u001b[1;32mc:\\Users\\ajo5182\\AppData\\Local\\miniconda3\\envs\\xhcd\\Lib\\site-packages\\xhcd\\core\\spectrum.py:102\u001b[0m, in \u001b[0;36mSpectrum.__init__\u001b[1;34m(self, eventlist, th1, th2, graded, gaincor, N_images)\u001b[0m\n\u001b[0;32m     99\u001b[0m     \u001b[38;5;28mself\u001b[39m\u001b[38;5;241m.\u001b[39mN_images \u001b[38;5;241m=\u001b[39m N_images \u001b[38;5;66;03m#set to NaN if this information is not given so that it propagates and is not mistaken later for a total\u001b[39;00m\n\u001b[0;32m    101\u001b[0m \u001b[38;5;28;01mif\u001b[39;00m th1 \u001b[38;5;129;01mis\u001b[39;00m \u001b[38;5;28;01mNone\u001b[39;00m:\n\u001b[1;32m--> 102\u001b[0m     \u001b[38;5;28mself\u001b[39m\u001b[38;5;241m.\u001b[39mth1 \u001b[38;5;241m=\u001b[39m \u001b[38;5;28;43mself\u001b[39;49m\u001b[38;5;241;43m.\u001b[39;49m\u001b[43mevtlist_header\u001b[49m\u001b[43m[\u001b[49m\u001b[38;5;124;43m'\u001b[39;49m\u001b[38;5;124;43mTH1\u001b[39;49m\u001b[38;5;124;43m'\u001b[39;49m\u001b[43m]\u001b[49m\n\u001b[0;32m    103\u001b[0m \u001b[38;5;28;01melse\u001b[39;00m:\n\u001b[0;32m    104\u001b[0m     \u001b[38;5;28;01massert\u001b[39;00m \u001b[38;5;28mself\u001b[39m\u001b[38;5;241m.\u001b[39mevtlist_header[\u001b[38;5;124m'\u001b[39m\u001b[38;5;124mTH1\u001b[39m\u001b[38;5;124m'\u001b[39m]\u001b[38;5;241m==\u001b[39mth1, \u001b[38;5;124m\"\u001b[39m\u001b[38;5;124mPrimary threshold is not the same as that provided\u001b[39m\u001b[38;5;124m\"\u001b[39m\n",
      "File \u001b[1;32mc:\\Users\\ajo5182\\AppData\\Local\\miniconda3\\envs\\xhcd\\Lib\\site-packages\\astropy\\io\\fits\\header.py:169\u001b[0m, in \u001b[0;36mHeader.__getitem__\u001b[1;34m(self, key)\u001b[0m\n\u001b[0;32m    166\u001b[0m \u001b[38;5;28;01melse\u001b[39;00m:\n\u001b[0;32m    167\u001b[0m     keyword \u001b[38;5;241m=\u001b[39m key\n\u001b[1;32m--> 169\u001b[0m card \u001b[38;5;241m=\u001b[39m \u001b[38;5;28mself\u001b[39m\u001b[38;5;241m.\u001b[39m_cards[\u001b[38;5;28;43mself\u001b[39;49m\u001b[38;5;241;43m.\u001b[39;49m\u001b[43m_cardindex\u001b[49m\u001b[43m(\u001b[49m\u001b[43mkey\u001b[49m\u001b[43m)\u001b[49m]\n\u001b[0;32m    171\u001b[0m \u001b[38;5;28;01mif\u001b[39;00m card\u001b[38;5;241m.\u001b[39mfield_specifier \u001b[38;5;129;01mis\u001b[39;00m \u001b[38;5;129;01mnot\u001b[39;00m \u001b[38;5;28;01mNone\u001b[39;00m \u001b[38;5;129;01mand\u001b[39;00m keyword \u001b[38;5;241m==\u001b[39m card\u001b[38;5;241m.\u001b[39mrawkeyword:\n\u001b[0;32m    172\u001b[0m     \u001b[38;5;66;03m# This is RVKC; if only the top-level keyword was specified return\u001b[39;00m\n\u001b[0;32m    173\u001b[0m     \u001b[38;5;66;03m# the raw value, not the parsed out float value\u001b[39;00m\n\u001b[0;32m    174\u001b[0m     \u001b[38;5;28;01mreturn\u001b[39;00m card\u001b[38;5;241m.\u001b[39mrawvalue\n",
      "File \u001b[1;32mc:\\Users\\ajo5182\\AppData\\Local\\miniconda3\\envs\\xhcd\\Lib\\site-packages\\astropy\\io\\fits\\header.py:1720\u001b[0m, in \u001b[0;36mHeader._cardindex\u001b[1;34m(self, key)\u001b[0m\n\u001b[0;32m   1717\u001b[0m         indices \u001b[38;5;241m=\u001b[39m \u001b[38;5;28mself\u001b[39m\u001b[38;5;241m.\u001b[39m_rvkc_indices\u001b[38;5;241m.\u001b[39mget(keyword, \u001b[38;5;28;01mNone\u001b[39;00m)\n\u001b[0;32m   1719\u001b[0m \u001b[38;5;28;01mif\u001b[39;00m \u001b[38;5;129;01mnot\u001b[39;00m indices:\n\u001b[1;32m-> 1720\u001b[0m     \u001b[38;5;28;01mraise\u001b[39;00m \u001b[38;5;167;01mKeyError\u001b[39;00m(\u001b[38;5;124mf\u001b[39m\u001b[38;5;124m\"\u001b[39m\u001b[38;5;124mKeyword \u001b[39m\u001b[38;5;132;01m{\u001b[39;00mkeyword\u001b[38;5;132;01m!r}\u001b[39;00m\u001b[38;5;124m not found.\u001b[39m\u001b[38;5;124m\"\u001b[39m)\n\u001b[0;32m   1722\u001b[0m \u001b[38;5;28;01mtry\u001b[39;00m:\n\u001b[0;32m   1723\u001b[0m     \u001b[38;5;28;01mreturn\u001b[39;00m indices[n]\n",
      "\u001b[1;31mKeyError\u001b[0m: \"Keyword 'TH1' not found.\""
     ]
    }
   ],
   "source": [
    "test_evnt = Spectrum(r\"Z:\\Astro_BlackCAT\\BlackCAT_Calibration_Data\\LC_Calibration_Data\\Raw Long Cell Data\\y2024-12-09\\BC001_Al_FF_243K_HORI_5_0\\output\\eventlist_s23056_th1_50.fits.gz\")"
   ]
  },
  {
   "cell_type": "code",
   "execution_count": null,
   "id": "e8bf27d7",
   "metadata": {},
   "outputs": [],
   "source": []
  }
 ],
 "metadata": {
  "kernelspec": {
   "display_name": "xhcd",
   "language": "python",
   "name": "python3"
  },
  "language_info": {
   "codemirror_mode": {
    "name": "ipython",
    "version": 3
   },
   "file_extension": ".py",
   "mimetype": "text/x-python",
   "name": "python",
   "nbconvert_exporter": "python",
   "pygments_lexer": "ipython3",
   "version": "3.12.9"
  }
 },
 "nbformat": 4,
 "nbformat_minor": 5
}
