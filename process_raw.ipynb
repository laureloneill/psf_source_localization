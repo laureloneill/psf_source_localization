{
 "cells": [
  {
   "cell_type": "code",
   "execution_count": null,
   "id": "75a3a1f6",
   "metadata": {},
   "outputs": [],
   "source": [
    "%matplotlib inline\n",
    "import xhcd\n",
    "from pathlib import Path\n",
    "from astropy.io import fits\n",
    "import matplotlib.pyplot as plt\n",
    "import seaborn as sns\n",
    "\n",
    "\n",
    "# !!! You will have to edit the path to the xhcd code to match your computer...\n",
    "from xhcd.speedster.runEventAnalysis import EventAnalysis\n",
    "from xhcd.speedster.runSweepAnalysis import SweepAnalysis\n",
    "from xhcd.speedster.runFe55Analysis import Fe55Analysis\n",
    "from xhcd.core import Spectrum\n",
    "\n",
    "from modified_bc_imaging_analysis import imaging_analysis\n",
    "\n",
    "\n",
    "#set plotting parameters \n",
    "sns.set_style(\"ticks\") #set style of axis and other things \n",
    "sns.set_context(\"paper\", font_scale=1.2) #set scaling of text, default line sizes, etc., might need to make fonts larger than default, scale up slightly \n",
    "\n",
    "#plt.rc('text', usetex=True) #use latex (if installed) to make plots look nicer\n",
    "plt.rc('font', family=\"serif\") #change font style to match closer to paper style\n",
    "\n",
    "colors = sns.color_palette(\"colorblind\") #color palette to use; this is a good one to ensure plots are colorblind friendly; I tend to use black lines on plots with only a single line\n"
   ]
  },
  {
   "cell_type": "code",
   "execution_count": null,
   "id": "6b6d4163",
   "metadata": {},
   "outputs": [],
   "source": [
    "# Using Path from Pathlib you can define the path to the X-ray data:\n",
    "# basedir = Path('Path/to/data_folder')\n",
    "# Filedir = Path('data_folder') \n",
    "#Example:\n",
    "basedir = Path(\"Z:\\Astro_BlackCAT\\BlackCAT_Calibration_Data\\LC_Calibration_Data\\Raw Long Cell Data\\Test\")\n",
    "Filedir = Path('s23200') \n",
    "\n",
    "# Load the analysis class:\n",
    "analysis = EventAnalysis(basedir/Filedir, source='Al')\n",
    "\n"
   ]
  },
  {
   "cell_type": "code",
   "execution_count": null,
   "id": "9d450b9e",
   "metadata": {},
   "outputs": [],
   "source": [
    "# Using the subtract function, remove fixed pattern noise and any global offsets between frames:\n",
    "\n",
    "analysis.subtract(boxcar=False, subtract_mean=True, dark_prefix='Dark', dark_only=False)\n",
    "\n"
   ]
  },
  {
   "cell_type": "code",
   "execution_count": null,
   "id": "fde94571",
   "metadata": {},
   "outputs": [],
   "source": [
    "Th1 = 100\n",
    "\n",
    "analysis.findEvents(th1=Th1, reef=False)"
   ]
  },
  {
   "cell_type": "code",
   "execution_count": null,
   "id": "bee0aab7",
   "metadata": {},
   "outputs": [],
   "source": [
    "Th2 = 30\n",
    "peak_estimate = 1200\n",
    "\n",
    "bpmask = Path(\"Z:/Astro_BlackCAT/BlackCAT_Calibration_Data/Badpixel_Analysis/Bad_Pixel_Masks/s23056/Flight_badpix_RTN_40e_233K_25V_Full_Frame.fits\")\n",
    "gain_map = Path(\"Z:/Astro_X_Ray/HCD_Data/Speedster_data/Speedster550_data/s23056/gainmaps/Flight_gainmap_233K_25V_Full_Frame.fits\")\n",
    "#Example:\n",
    "#bpmask = Path('/storage/home/lrs5694/research/s23200/test_bpmask.fits')\n",
    "#gain_map = Path('/gpfs/group/ECoS/default/mow5307/Astro_X_Ray/HCD_Data/Speedster_data/Speedster550_data/s23200/gainmaps/gainmap_comp_on_gain1_gaussian_25V_213K.fits')\n",
    "\n",
    "spec = analysis.runSpectralAnalysis(th2=Th2, edgecut=10, badpix_map=bpmask, gain_map=gain_map, ramp=False, energy=None, peak_estimate=peak_estimate)"
   ]
  },
  {
   "cell_type": "code",
   "execution_count": null,
   "id": "034fa07f",
   "metadata": {},
   "outputs": [],
   "source": [
    "imaging_analysis()"
   ]
  }
 ],
 "metadata": {
  "kernelspec": {
   "display_name": "xhcd",
   "language": "python",
   "name": "python3"
  },
  "language_info": {
   "codemirror_mode": {
    "name": "ipython",
    "version": 3
   },
   "file_extension": ".py",
   "mimetype": "text/x-python",
   "name": "python",
   "nbconvert_exporter": "python",
   "pygments_lexer": "ipython3",
   "version": "3.12.9"
  }
 },
 "nbformat": 4,
 "nbformat_minor": 5
}
