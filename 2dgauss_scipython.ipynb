{
 "cells": [
  {
   "cell_type": "code",
   "execution_count": null,
   "id": "ecd76e2b",
   "metadata": {},
   "outputs": [],
   "source": [
    "import numpy as np\n",
    "import scipy.optimize as opt\n"
   ]
  },
  {
   "cell_type": "code",
   "execution_count": null,
   "id": "211307ca",
   "metadata": {},
   "outputs": [],
   "source": [
    "# Our function to fit is going to be a sum of two-dimensional Gaussians\n",
    "def gaussian(x, y, x0, y0, xalpha, yalpha, A):\n",
    "    return A * np.exp( -((x-x0)/xalpha)**2 -((y-y0)/yalpha)**2)"
   ]
  }
 ],
 "metadata": {
  "kernelspec": {
   "display_name": "xhcd",
   "language": "python",
   "name": "python3"
  },
  "language_info": {
   "codemirror_mode": {
    "name": "ipython",
    "version": 3
   },
   "file_extension": ".py",
   "mimetype": "text/x-python",
   "name": "python",
   "nbconvert_exporter": "python",
   "pygments_lexer": "ipython3",
   "version": "3.12.9"
  }
 },
 "nbformat": 4,
 "nbformat_minor": 5
}
