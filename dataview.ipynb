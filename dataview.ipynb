{
 "cells": [
  {
   "cell_type": "code",
   "execution_count": 1,
   "id": "2f5b0ccc",
   "metadata": {},
   "outputs": [],
   "source": [
    "\n",
    "import matplotlib.pyplot as plt\n",
    "from matplotlib.patches import Ellipse\n",
    "from pathlib import Path\n",
    "from astropy.io import fits\n",
    "import numpy as np"
   ]
  },
  {
   "cell_type": "code",
   "execution_count": 2,
   "id": "e2474e22",
   "metadata": {},
   "outputs": [],
   "source": [
    "#datPath = Path(\"C:/Users/ajo5182/Documents/astro/psf/psf_source_localization/data/2dfit_test.npz\")\n",
    "datPath = Path(\"C:/Users/ajo5182/Documents/astro/psf/psf_source_localization/data/2dfit_2024_12_11.npz\")\n",
    "data = np.load(datPath, allow_pickle=True)"
   ]
  },
  {
   "cell_type": "code",
   "execution_count": 3,
   "id": "228bad1c",
   "metadata": {},
   "outputs": [],
   "source": [
    "#Load data and covariance matrices from disk\n",
    "data_2024_12_09 = np.load('data/2dfit_2024_12_09.npz',allow_pickle = True)\n",
    "covMat_2024_12_09 =np.load('data/covMatrix_2024_12_09.npz', allow_pickle = True)\n",
    "\n",
    "data_2024_12_10 = np.load('data/2dfit_2024_12_10.npz',allow_pickle = True)\n",
    "covMat_2024_12_10 =np.load('data/covMatrix_2024_12_10.npz', allow_pickle = True)\n",
    "\n",
    "data_2024_12_11 = np.load('data/2dfit_2024_12_11.npz',allow_pickle = True)\n",
    "covMat_2024_12_11 =np.load('data/covMatrix_2024_12_11.npz', allow_pickle = True)\n",
    "\n",
    "data_2024_12_12 = np.load('data/2dfit_2024_12_12.npz',allow_pickle = True)\n",
    "covMat_2024_12_12 =np.load('data/covMatrix_2024_12_12.npz', allow_pickle = True)\n",
    "\n",
    "data_2024_12_13 = np.load('data/2dfit_2024_12_13.npz',allow_pickle = True)\n",
    "covMat_2024_12_13 =np.load('data/covMatrix_2024_12_13.npz', allow_pickle = True)\n",
    "\n",
    "data_2024_12_14 = np.load('data/2dfit_2024_12_14.npz',allow_pickle = True)\n",
    "covMat_2024_12_14 =np.load('data/covMatrix_2024_12_14.npz', allow_pickle = True)\n",
    "\n",
    "data_2024_12_16 = np.load('data/2dfit_2024_12_16.npz',allow_pickle = True)\n",
    "covMat_2024_12_16 =np.load('data/covMatrix_2024_12_16.npz', allow_pickle = True)\n",
    "\n",
    "data_2024_12_17 = np.load('data/2dfit_2024_12_17.npz',allow_pickle = True)\n",
    "covMat_2024_12_17 =np.load('data/covMatrix_2024_12_17.npz', allow_pickle = True)"
   ]
  },
  {
   "cell_type": "code",
   "execution_count": 4,
   "id": "18acfb78",
   "metadata": {},
   "outputs": [],
   "source": [
    "run = np.concatenate((np.array(data_2024_12_09['run']),np.array(data_2024_12_10['run']),np.array(data_2024_12_11['run']),\n",
    "                   np.array(data_2024_12_12['run']),np.array(data_2024_12_13['run']),np.array(data_2024_12_14['run']),\n",
    "                   np.array(data_2024_12_16['run']),np.array(data_2024_12_17['run']) ))\n",
    "\n",
    "anode = np.concatenate((np.array(data_2024_12_09['anode']),np.array(data_2024_12_10['anode']),np.array(data_2024_12_11['anode']),\n",
    "                   np.array(data_2024_12_12['anode']),np.array(data_2024_12_13['anode']),np.array(data_2024_12_14['anode']),\n",
    "                   np.array(data_2024_12_16['anode']),np.array(data_2024_12_17['anode']) ))\n",
    "\n",
    "detectorMode = np.concatenate((np.array(data_2024_12_09['detectorMode']),np.array(data_2024_12_10['detectorMode']),np.array(data_2024_12_11['detectorMode']),\n",
    "                   np.array(data_2024_12_12['detectorMode']),np.array(data_2024_12_13['detectorMode']),np.array(data_2024_12_14['detectorMode']),\n",
    "                   np.array(data_2024_12_16['detectorMode']),np.array(data_2024_12_17['detectorMode']) ))\n",
    "\n",
    "sweep =  np.concatenate((np.array(data_2024_12_09['sweep']),np.array(data_2024_12_10['sweep']),np.array(data_2024_12_11['sweep']),\n",
    "                   np.array(data_2024_12_12['sweep']),np.array(data_2024_12_13['sweep']),np.array(data_2024_12_14['sweep']),\n",
    "                   np.array(data_2024_12_16['sweep']),np.array(data_2024_12_17['sweep']) ))\n",
    "\n",
    "hTheta = np.concatenate((np.array(data_2024_12_09['hTheta']),np.array(data_2024_12_10['hTheta']),np.array(data_2024_12_11['hTheta']),\n",
    "                   np.array(data_2024_12_12['hTheta']),np.array(data_2024_12_13['hTheta']),np.array(data_2024_12_14['hTheta']),\n",
    "                   np.array(data_2024_12_16['hTheta']),np.array(data_2024_12_17['hTheta']) ))\n",
    "\n",
    "vTheta = np.concatenate((np.array(data_2024_12_09['vTheta']),np.array(data_2024_12_10['vTheta']),np.array(data_2024_12_11['vTheta']),\n",
    "                   np.array(data_2024_12_12['vTheta']),np.array(data_2024_12_13['vTheta']),np.array(data_2024_12_14['vTheta']),\n",
    "                   np.array(data_2024_12_16['vTheta']),np.array(data_2024_12_17['vTheta']) ))\n",
    "\n",
    "xSigma = np.concatenate((np.array(data_2024_12_09['xSigma']),np.array(data_2024_12_10['xSigma']),np.array(data_2024_12_11['xSigma']),\n",
    "                   np.array(data_2024_12_12['xSigma']),np.array(data_2024_12_13['xSigma']),np.array(data_2024_12_14['xSigma']),\n",
    "                   np.array(data_2024_12_16['xSigma']),np.array(data_2024_12_17['xSigma']) ))\n",
    "\n",
    "ySigma = np.concatenate((np.array(data_2024_12_09['ySigma']),np.array(data_2024_12_10['ySigma']),np.array(data_2024_12_11['ySigma']),\n",
    "                   np.array(data_2024_12_12['ySigma']),np.array(data_2024_12_13['ySigma']),np.array(data_2024_12_14['ySigma']),\n",
    "                   np.array(data_2024_12_16['ySigma']),np.array(data_2024_12_17['ySigma']) ))\n",
    "\n",
    "xMean = np.concatenate((np.array(data_2024_12_09['xMean']),np.array(data_2024_12_10['xMean']),np.array(data_2024_12_11['xMean']),\n",
    "                   np.array(data_2024_12_12['xMean']),np.array(data_2024_12_13['xMean']),np.array(data_2024_12_14['xMean']),\n",
    "                   np.array(data_2024_12_16['xMean']),np.array(data_2024_12_17['xMean']) ))\n",
    "\n",
    "yMean = np.concatenate((np.array(data_2024_12_09['yMean']),np.array(data_2024_12_10['yMean']),np.array(data_2024_12_11['yMean']),\n",
    "                   np.array(data_2024_12_12['yMean']),np.array(data_2024_12_13['yMean']),np.array(data_2024_12_14['yMean']),\n",
    "                   np.array(data_2024_12_16['yMean']),np.array(data_2024_12_17['yMean']) ))\n",
    "\n",
    "angle = np.concatenate((np.array(data_2024_12_09['theta']),np.array(data_2024_12_10['theta']),np.array(data_2024_12_11['theta']),\n",
    "                   np.array(data_2024_12_12['theta']),np.array(data_2024_12_13['theta']),np.array(data_2024_12_14['theta']),\n",
    "                   np.array(data_2024_12_16['theta']),np.array(data_2024_12_17['theta']) ))\n",
    "\n",
    "valid_peak = np.concatenate((np.array(data_2024_12_09['validPeak']),np.array(data_2024_12_10['validPeak']),np.array(data_2024_12_11['validPeak']),\n",
    "                   np.array(data_2024_12_12['validPeak']),np.array(data_2024_12_13['validPeak']),np.array(data_2024_12_14['validPeak']),\n",
    "                   np.array(data_2024_12_16['validPeak']),np.array(data_2024_12_17['validPeak']) ))\n",
    "run_name = (str(run)+'_'+str(anode)+'_'+str(detectorMode)+'_'+\n",
    "            str(sweep)+'_'+str(vTheta)+'_'+str(hTheta))\n",
    "\n",
    "np.savez(\"data/full_data\",run=run, anode=anode, detectorMode=detectorMode, \n",
    "         sweep=sweep, hTheta=hTheta, vTheta=vTheta, \n",
    "         xMean=xMean, xSigma=xSigma, \n",
    "         yMean=yMean, ySigma=ySigma, theta=angle)\n"
   ]
  },
  {
   "cell_type": "code",
   "execution_count": 218,
   "id": "22a5c8fa",
   "metadata": {},
   "outputs": [],
   "source": [
    "covMat = np.concatenate((np.array(covMat_2024_12_09['arr_0']),np.array(covMat_2024_12_10['arr_0']),np.array(covMat_2024_12_11['arr_0']),\n",
    "                   np.array(covMat_2024_12_12['arr_0']),np.array(covMat_2024_12_13['arr_0']),np.array(covMat_2024_12_14['arr_0']),\n",
    "                   np.array(covMat_2024_12_16['arr_0']),np.array(covMat_2024_12_17['arr_0']) ))\n"
   ]
  },
  {
   "cell_type": "code",
   "execution_count": 257,
   "id": "ab119eef",
   "metadata": {},
   "outputs": [],
   "source": [
    "vTheta = vTheta[xSigma != np.array(None)]\n",
    "xSigma = xSigma[xSigma != np.array(None)]\n",
    "ySigma = ySigma[ySigma != np.array(None)]\n",
    "xMean = xMean[xMean != np.array(None)]\n",
    "yMean = yMean[yMean != np.array(None)]\n",
    "angle = angle[angle!= np.array(None)]\n",
    "#run_name = run_name[valid_peak != False]\n",
    "\n"
   ]
  },
  {
   "cell_type": "code",
   "execution_count": 198,
   "id": "bbd99566",
   "metadata": {},
   "outputs": [],
   "source": [
    "covMat = covMat[valid_peak != \"False\"]\n"
   ]
  },
  {
   "cell_type": "code",
   "execution_count": 127,
   "id": "d3b6919b",
   "metadata": {},
   "outputs": [],
   "source": [
    "xfwhm = 2.35*np.array(xSigma)\n",
    "yfwhm = 2.35*np.array(ySigma)"
   ]
  },
  {
   "cell_type": "code",
   "execution_count": 121,
   "id": "872286e5",
   "metadata": {},
   "outputs": [],
   "source": [
    "imPixelSizeX = 0.0149 # pixel size degrees\n",
    "imPixelSizeY = 0.0149 # pixel size degrees\n",
    "shapey = 3137\n",
    "shapex = 5585\n",
    "y = imPixelSizeY * np.linspace((shapey-1)/-2,(shapey-1)/2, shapey) # create array from -23 deg to 23 deg, centered on zero\n",
    "x = imPixelSizeX * np.linspace((shapex-1)/-2,(shapex-1)/2, shapex) # create array from -41 deg to 41 deg, centered on zero\n",
    "\n"
   ]
  },
  {
   "cell_type": "code",
   "execution_count": 214,
   "id": "074c3fd0",
   "metadata": {},
   "outputs": [
    {
     "data": {
      "image/png": "[encoded data removed]",
      "text/plain": [
       "<Figure size 640x480 with 1 Axes>"
      ]
     },
     "metadata": {},
     "output_type": "display_data"
    }
   ],
   "source": [
    "mag = 10 # increase fwhm so its easier to see\n",
    "\n",
    "ells =  [Ellipse(xy= (1*xMean[i],1*yMean[i]),width=mag*xfwhm[i],height=mag*yfwhm[i], angle= mag*angle[i]) for i in range(len(xfwhm))]\n",
    "i = 0\n",
    "fig, ax = plt.subplots()\n",
    "ax.set(xlim=(-41, 41), ylim=(-23,23 ), aspect=\"equal\")\n",
    "for e in ells[0:161]:\n",
    "    #print(i)\n",
    "    #ax.legend(e,run_name)\n",
    "    #ax.add_artist(e)\n",
    "    ax.add_patch(e)\n",
    "    e.set(clip_box=ax.bbox, alpha=1, facecolor=np.random.rand(3), label=run_name[i])\n",
    "    i = i+1\n",
    "plt.xlabel('Azimuth Angle (Degrees)')\n",
    "plt.ylabel('Elevation Angle (Degrees)')\n",
    "#ax.legend\n",
    "#ax.legend(bbox_to_anchor=(1.05, 1.0), loc='upper left')\n",
    "fig.savefig('skypeaks.png')"
   ]
  },
  {
   "cell_type": "code",
   "execution_count": 291,
   "id": "6715c877",
   "metadata": {},
   "outputs": [
    {
     "data": {
      "image/png": "[encoded data removed]",
      "text/plain": [
       "<Figure size 640x480 with 1 Axes>"
      ]
     },
     "metadata": {},
     "output_type": "display_data"
    }
   ],
   "source": [
    "legend =[\"x fwhm\",'y fwhm']\n",
    "fig1,ax1 = plt.subplots()\n",
    "plt.hist([xfwhm*60,yfwhm*60], histtype=\"barstacked\", label=['xfwhm','yfwhm'])\n",
    "\n",
    "#plt.hist(xfwhm*60,label=\"xfwhm\")\n",
    "#plt.hist(yfwhm*60,label='yfwhm')\n",
    "\n",
    "plt.xlabel('FWHM in arcmin')\n",
    "legend =[\"x fwhm\",'y fwhm']\n",
    "fig1.legend()\n",
    "fig1.savefig('fwhm.png')\n"
   ]
  },
  {
   "cell_type": "code",
   "execution_count": null,
   "id": "7b646bdd",
   "metadata": {},
   "outputs": [],
   "source": []
  },
  {
   "cell_type": "code",
   "execution_count": 136,
   "id": "8afc6a2b",
   "metadata": {},
   "outputs": [
    {
     "data": {
      "text/plain": [
       "array([], shape=(0, 320), dtype=object)"
      ]
     },
     "execution_count": 136,
     "metadata": {},
     "output_type": "execute_result"
    }
   ],
   "source": [
    "out = (range(0,covMat.shape[0]))\n",
    "(covMat[covMat.any == None])\n"
   ]
  },
  {
   "cell_type": "code",
   "execution_count": 163,
   "id": "4b48496e",
   "metadata": {},
   "outputs": [],
   "source": [
    "aError = [np.nan]*len(covMat)\n",
    "xMean_error = [np.nan]*len(covMat)\n",
    "yMean_error = [np.nan]*len(covMat)\n",
    "xSigma_error = [np.nan]*len(covMat)\n",
    "ySigma_error = [np.nan]*len(covMat)\n",
    "angle_error = [np.nan]*len(covMat)"
   ]
  },
  {
   "cell_type": "code",
   "execution_count": 200,
   "id": "2409e4be",
   "metadata": {},
   "outputs": [],
   "source": [
    "# iterate through the covariance matrices to determine the error on each parameter\n",
    "# cov_matrix = fitter.fit_info.get('param_cov')\n",
    "# if cov_matrix is not None:\n",
    "#    param_names = g_fit.param_names\n",
    "#    param_errors = np.sqrt(np.diag(cov_matrix))\n",
    "#\n",
    "#    for name, err in zip(param_names, param_errors):\n",
    "#        print(f\"{name}: {getattr(g_fit, name).value:.4f} ± {err:.4f}\")\n",
    "#\n",
    "\n",
    "for q in range(0,161):\n",
    "        aError[q], xMean_error[q], yMean_error[q], xSigma_error[q],ySigma_error[q],angle_error[q] = np.sqrt(np.diag(covMat[q]))\n",
    "        \n",
    "\n",
    "\n"
   ]
  },
  {
   "cell_type": "code",
   "execution_count": 203,
   "id": "76ed81c4",
   "metadata": {},
   "outputs": [
    {
     "data": {
      "text/plain": [
       "(array([ 8., 19., 47., 33., 17., 17.,  9.,  7.,  3.,  2.]),\n",
       " array([0.00132934, 0.00154107, 0.00175279, 0.00196452, 0.00217625,\n",
       "        0.00238797, 0.0025997 , 0.00281143, 0.00302315, 0.00323488,\n",
       "        0.00344661]),\n",
       " <BarContainer object of 10 artists>)"
      ]
     },
     "execution_count": 203,
     "metadata": {},
     "output_type": "execute_result"
    },
    {
     "data": {
      "image/png": "[encoded data removed]",
      "text/plain": [
       "<Figure size 640x480 with 1 Axes>"
      ]
     },
     "metadata": {},
     "output_type": "display_data"
    }
   ],
   "source": [
    "plt.hist(xMean_error)\n",
    "plt.hist(yMean_error)"
   ]
  },
  {
   "cell_type": "code",
   "execution_count": 260,
   "id": "261dbf1a",
   "metadata": {},
   "outputs": [
    {
     "name": "stdout",
     "output_type": "stream",
     "text": [
      "tes\n"
     ]
    }
   ],
   "source": [
    "list_vTheta = vTheta\n",
    "#\n",
    "\n",
    "for i in range(len(vTheta)):\n",
    "    list_vTheta[i] = str(list_vTheta[i]).replace(\"N\",\"-\")\n",
    "    list_vTheta[i] = str(list_vTheta[i]).replace(\"-A\",str(np.nan))\n",
    "    if list_vTheta[i] == \"nan\" or list_vTheta[i] == \"-8p3\":\n",
    "        list_vTheta[i] = np.nan\n",
    "    else:\n",
    "        list_vTheta[i] = int(list_vTheta[i])\n",
    "print('tes') \n",
    "\n",
    "error = abs(xMean-list_vTheta)"
   ]
  },
  {
   "cell_type": "code",
   "execution_count": null,
   "id": "77bbd904",
   "metadata": {},
   "outputs": [],
   "source": []
  }
 ],
 "metadata": {
  "kernelspec": {
   "display_name": "xhcd",
   "language": "python",
   "name": "python3"
  },
  "language_info": {
   "codemirror_mode": {
    "name": "ipython",
    "version": 3
   },
   "file_extension": ".py",
   "mimetype": "text/x-python",
   "name": "python",
   "nbconvert_exporter": "python",
   "pygments_lexer": "ipython3",
   "version": "3.12.9"
  }
 },
 "nbformat": 4,
 "nbformat_minor": 5
}
