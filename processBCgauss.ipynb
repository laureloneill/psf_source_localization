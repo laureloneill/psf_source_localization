{
 "cells": [
  {
   "cell_type": "code",
   "execution_count": 1,
   "id": "3c4be3a1",
   "metadata": {},
   "outputs": [],
   "source": [
    "import numpy as np\n",
    "import matplotlib.pyplot as plt\n",
    "from pathlib import Path\n",
    "import pickle\n",
    "import os\n"
   ]
  },
  {
   "cell_type": "code",
   "execution_count": 2,
   "id": "0567cca9",
   "metadata": {},
   "outputs": [],
   "source": [
    "with open(\"gaussfit_9-22.pkl\",'rb') as pickle_file:\n",
    "    result = pickle.load(pickle_file)"
   ]
  },
  {
   "cell_type": "code",
   "execution_count": 3,
   "id": "d98cc253",
   "metadata": {},
   "outputs": [],
   "source": [
    "image_directory= r\"/scratch/ajo5182/psfSamples/image_reconstruction\"\n",
    "reconstruction_list = sorted([file for file in os.listdir(image_directory) if os.path.isfile(os.path.join(image_directory, file))])\n"
   ]
  },
  {
   "cell_type": "code",
   "execution_count": 24,
   "id": "41efaaf6",
   "metadata": {},
   "outputs": [],
   "source": [
    "fit_data = result[0]\n",
    "cov_data = np.array(result[1])"
   ]
  },
  {
   "cell_type": "code",
   "execution_count": null,
   "id": "a1969a80",
   "metadata": {},
   "outputs": [],
   "source": [
    "xSigma=np.array([None]*len(fit_data.values))\n",
    "ySigma=np.array([None]*len(fit_data.values))\n",
    "xCenter=np.array([None]*len(fit_data.values))\n",
    "yCenter = np.array([None]*len(fit_data.values))\n",
    "peakSig = np.array([None]*len(fit_data.values))\n",
    "\n",
    "for a in range(len(fit_data.values)):\n",
    "    xSigma[a] = np.array(fit_data[a]['xSigma'])\n",
    "    ySigma[a] = np.array(fit_data[a]['ySigma'])\n",
    "    xCenter[a] = np.array(fit_data[a]['xCenter'] )\n",
    "    yCenter[a] = np.array(fit_data[a]['yCenter'])\n",
    "    peakSig[a] = np.array(fit_data[a]['peakSig'])\n",
    "\n"
   ]
  },
  {
   "cell_type": "code",
   "execution_count": null,
   "id": "130b063d",
   "metadata": {},
   "outputs": [],
   "source": [
    "xSigma = xSigma[peakSig != np.array(None)]\n",
    "ySigma = ySigma[peakSig != np.array(None)]\n",
    "peakSig = peakSig[peakSig != np.array(None)]"
   ]
  },
  {
   "cell_type": "code",
   "execution_count": null,
   "id": "ba0644fb",
   "metadata": {},
   "outputs": [],
   "source": [
    "xfwhm = 2.355*xSigma\n",
    "yfwhm = 2.355*ySigma"
   ]
  },
  {
   "cell_type": "code",
   "execution_count": 28,
   "id": "7bb52ca6",
   "metadata": {},
   "outputs": [
    {
     "ename": "TypeError",
     "evalue": "unsupported operand type(s) for /: 'float' and 'NoneType'",
     "output_type": "error",
     "traceback": [
      "\u001b[31m---------------------------------------------------------------------------\u001b[39m",
      "\u001b[31mTypeError\u001b[39m                                 Traceback (most recent call last)",
      "\u001b[36mCell\u001b[39m\u001b[36m \u001b[39m\u001b[32mIn[28]\u001b[39m\u001b[32m, line 1\u001b[39m\n\u001b[32m----> \u001b[39m\u001b[32m1\u001b[39m localizationX = xfwhm/peakSig\n\u001b[32m      2\u001b[39m localizationY = yfwhm/peakSig\n",
      "\u001b[31mTypeError\u001b[39m: unsupported operand type(s) for /: 'float' and 'NoneType'"
     ]
    }
   ],
   "source": [
    "localizationX = xfwhm/peakSig\n",
    "localizationY = yfwhm/peakSig"
   ]
  },
  {
   "cell_type": "code",
   "execution_count": 25,
   "id": "ae36ca5c",
   "metadata": {},
   "outputs": [
    {
     "data": {
      "text/plain": [
       "array([[ 1.63351015e+02,  1.09325098e-03, -1.46719786e-03,\n",
       "        -4.63206114e-02, -2.92571920e-02, -7.31021488e-02],\n",
       "       [ 1.09325098e-03,  2.73136185e-05, -3.87956548e-06,\n",
       "        -1.31457238e-06, -1.16357051e-07, -1.53451953e-06],\n",
       "       [-1.46719786e-03, -3.87956548e-06,  1.76700230e-05,\n",
       "         5.26868615e-07,  9.70948113e-07, -3.03289076e-05],\n",
       "       [-4.63206114e-02, -1.31457238e-06,  5.26868615e-07,\n",
       "         4.27060126e-05,  1.26489105e-06,  1.31492362e-04],\n",
       "       [-2.92571920e-02, -1.16357051e-07,  9.70948113e-07,\n",
       "         1.26489105e-06,  1.92904653e-05, -2.50938966e-05],\n",
       "       [-7.31021488e-02, -1.53451953e-06, -3.03289076e-05,\n",
       "         1.31492362e-04, -2.50938966e-05,  3.16921562e-02]])"
      ]
     },
     "execution_count": 25,
     "metadata": {},
     "output_type": "execute_result"
    }
   ],
   "source": [
    "cov_data[1]"
   ]
  },
  {
   "cell_type": "code",
   "execution_count": 27,
   "id": "bdd29cdd",
   "metadata": {},
   "outputs": [],
   "source": [
    "aError = [np.nan]*len(cov_data)\n",
    "xMean_error = [np.nan]*len(cov_data)\n",
    "yMean_error = [np.nan]*len(cov_data)\n",
    "xSigma_error = [np.nan]*len(cov_data)\n",
    "ySigma_error = [np.nan]*len(cov_data)\n",
    "angle_error = [np.nan]*len(cov_data)\n",
    "\n",
    "for q in range(len(cov_data)):\n",
    "        aError[q], xMean_error[q], yMean_error[q], xSigma_error[q],ySigma_error[q],angle_error[q] = np.sqrt(np.diag(cov_data[q]))"
   ]
  },
  {
   "cell_type": "code",
   "execution_count": null,
   "id": "3c213841",
   "metadata": {},
   "outputs": [],
   "source": [
    "reconstruction_list()"
   ]
  }
 ],
 "metadata": {
  "kernelspec": {
   "display_name": "xhcd",
   "language": "python",
   "name": "python3"
  },
  "language_info": {
   "codemirror_mode": {
    "name": "ipython",
    "version": 3
   },
   "file_extension": ".py",
   "mimetype": "text/x-python",
   "name": "python",
   "nbconvert_exporter": "python",
   "pygments_lexer": "ipython3",
   "version": "3.12.8"
  }
 },
 "nbformat": 4,
 "nbformat_minor": 5
}
