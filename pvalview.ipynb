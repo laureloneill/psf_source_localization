{
 "cells": [
  {
   "cell_type": "code",
   "execution_count": 2,
   "id": "b33cc327",
   "metadata": {},
   "outputs": [],
   "source": [
    "\n",
    "import matplotlib.pyplot as plt\n",
    "from matplotlib.patches import Ellipse\n",
    "from pathlib import Path\n",
    "from astropy.io import fits\n",
    "import numpy as np\n",
    "import os\n",
    "import scipy.stats as stats\n"
   ]
  },
  {
   "cell_type": "code",
   "execution_count": null,
   "id": "e43eb01f",
   "metadata": {},
   "outputs": [],
   "source": []
  },
  {
   "cell_type": "code",
   "execution_count": 3,
   "id": "da6398ee",
   "metadata": {},
   "outputs": [],
   "source": [
    "data_dir = Path(\"C:/Users/ajo5182/Documents/astro/y2024-12-09\")\n",
    "# take the names of all folders within the specified directory\n",
    "folder_list = [folder for folder in os.listdir(data_dir) if os.path.isdir(os.path.join(data_dir, folder))] "
   ]
  },
  {
   "cell_type": "code",
   "execution_count": 43,
   "id": "537e6352",
   "metadata": {},
   "outputs": [],
   "source": [
    "pvalx = np.array([np.nan]*len(folder_list))\n",
    "pvaly = np.array([np.nan]*len(folder_list))\n",
    "window =10 #  number of pixels to either side of the peak\n"
   ]
  },
  {
   "cell_type": "code",
   "execution_count": 44,
   "id": "8a01459f",
   "metadata": {},
   "outputs": [],
   "source": [
    "for a in range(len(folder_list)): \n",
    "    if os.path.isfile(f\"{data_dir}/{folder_list[a]}/Analysis/imaging_analysis_20241213/Figures/imaging_source.png\"):\n",
    "    \n",
    "        data_path = Path(f\"{data_dir}/{folder_list[a]}/Analysis/imaging_analysis_20241213/image_reconstruction.fits.gz\")\n",
    "        d = fits.open(data_path) # open fits file\n",
    "        \n",
    "        data = d[0].data # data contents of the fits file\n",
    "        shape =  data.shape\n",
    "\n",
    "        peak = np.max(data)\n",
    "        peak_loc = np.unravel_index(np.argmax(data),data.shape)\n",
    "     \n",
    "\n",
    "\n",
    "        #x_window =x[peak_loc[1]-window:peak_loc[1]+window]\n",
    "        #y_window =y [peak_loc[0]-window:peak_loc[0]+window]\n",
    "\n",
    "        windowed_data = data[peak_loc[0]-window:peak_loc[0]+window, peak_loc[1]-window:peak_loc[1]+window]\n",
    "            \n",
    "        shapiro_result = stats.shapiro(windowed_data, axis=0)\n",
    "        pvalx[a] = np.mean(shapiro_result.pvalue)\n",
    "        shapiro_result = stats.shapiro(windowed_data, axis=1)\n",
    "        pvaly[a] = np.mean(shapiro_result.pvalue)"
   ]
  },
  {
   "cell_type": "code",
   "execution_count": 45,
   "id": "7a6d2322",
   "metadata": {},
   "outputs": [],
   "source": [
    "pvalx = pvalx[~np.isnan(pvalx)]\n",
    "pvaly = pvaly[~np.isnan(pvaly)]"
   ]
  },
  {
   "cell_type": "code",
   "execution_count": 47,
   "id": "0b76ea0b",
   "metadata": {},
   "outputs": [
    {
     "data": {
      "text/plain": [
       "(array([3., 6., 5., 2., 6., 4., 3., 1., 0., 1.]),\n",
       " array([0.06459713, 0.08520472, 0.10581232, 0.12641992, 0.14702751,\n",
       "        0.16763511, 0.1882427 , 0.2088503 , 0.2294579 , 0.25006549,\n",
       "        0.27067309]),\n",
       " <BarContainer object of 10 artists>)"
      ]
     },
     "execution_count": 47,
     "metadata": {},
     "output_type": "execute_result"
    },
    {
     "data": {
      "image/png": "[encoded data removed]",
      "text/plain": [
       "<Figure size 640x480 with 1 Axes>"
      ]
     },
     "metadata": {},
     "output_type": "display_data"
    }
   ],
   "source": [
    "plt.hist(pvalx)\n",
    "plt.hist(pvaly)\n"
   ]
  }
 ],
 "metadata": {
  "kernelspec": {
   "display_name": "xhcd",
   "language": "python",
   "name": "python3"
  },
  "language_info": {
   "codemirror_mode": {
    "name": "ipython",
    "version": 3
   },
   "file_extension": ".py",
   "mimetype": "text/x-python",
   "name": "python",
   "nbconvert_exporter": "python",
   "pygments_lexer": "ipython3",
   "version": "3.12.9"
  }
 },
 "nbformat": 4,
 "nbformat_minor": 5
}
