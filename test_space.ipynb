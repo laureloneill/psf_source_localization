{
 "cells": [
  {
   "cell_type": "code",
   "execution_count": 2,
   "id": "613661db",
   "metadata": {},
   "outputs": [],
   "source": [
    "import numpy as np\n",
    "from astropy.modeling import models, fitting\n",
    "import matplotlib.pyplot as plt\n",
    "from astropy.table import Table\n",
    "from pathlib import Path\n",
    "from astropy.io import fits\n",
    "from xhcd.core import Spectrum,evtlist\n",
    "from astropy.wcs import WCS\n",
    "import os\n",
    "from fitsutil import evntlist_in_browser"
   ]
  },
  {
   "cell_type": "code",
   "execution_count": null,
   "id": "06f28a3c",
   "metadata": {},
   "outputs": [],
   "source": [
    "\n",
    "\n",
    "def fit_rotated_2d_gaussian(data, x=None, y=None, plot_result=False,iter = None):\n",
    "    \"\"\"\n",
    "    Fit a rotated 2D Gaussian to 2D data using Astropy's Gaussian2D model.\n",
    "\n",
    "    Parameters:\n",
    "        data : 2D numpy array\n",
    "            The input data array to fit.\n",
    "        x, y : 2D numpy arrays, optional\n",
    "            Meshgrid coordinates corresponding to data. If None, will be auto-generated.\n",
    "        plot_result : bool\n",
    "            Whether to plot the original data and fit result.\n",
    "\n",
    "    Returns:\n",
    "        fitted_model : Gaussian2D\n",
    "            The best-fit Gaussian2D model.\n",
    "    \"\"\"\n",
    "    # Generate coordinate grids if not provided\n",
    "    ny, nx = data.shape\n",
    "    if x is None or y is None:\n",
    "        y, x = np.mgrid[:ny, :nx]\n",
    "\n",
    "    # Estimate initial parameters\n",
    "    amplitude_init = np.max(data)\n",
    "    x_mean_init = x[data == amplitude_init][0]\n",
    "    y_mean_init = y[data == amplitude_init][0]\n",
    "\n",
    "    # Initial guess for model\n",
    "    gauss_init = models.Gaussian2D(amplitude=amplitude_init, x_mean=x_mean_init,\n",
    "                                   y_mean=y_mean_init, x_stddev=0.089, y_stddev=0.069, theta=0)\n",
    "\n",
    "    # Fitting with Levenberg-Marquardt algorithm\n",
    "    fitter = fitting.LevMarLSQFitter()\n",
    "    fitted_model = fitter(gauss_init, x, y, data)\n",
    "    covariance_matrix = fitter.fit_info['param_cov']\n",
    "    if fitted_model.x_fwhm > 1 or fitted_model.y_fwhm >1 :\n",
    "        print(iter)\n",
    "\n",
    "    if plot_result:\n",
    "        fit_data = fitted_model(x, y)\n",
    "        fig, axes = plt.subplots(1, 2, figsize=(10, 5))\n",
    "        axes[0].imshow(data, origin='lower', cmap='viridis')\n",
    "        axes[0].set_title(\"Original Data\")\n",
    "        axes[1].imshow(fit_data, origin='lower', cmap='viridis')\n",
    "        axes[1].set_title(\"Fitted Gaussian\")\n",
    "        plt.tight_layout()\n",
    "        plt.show()\n",
    "\n",
    "    return fitted_model,covariance_matrix"
   ]
  },
  {
   "cell_type": "code",
   "execution_count": null,
   "id": "213ac028",
   "metadata": {},
   "outputs": [],
   "source": []
  },
  {
   "cell_type": "code",
   "execution_count": null,
   "id": "8d670f50",
   "metadata": {},
   "outputs": [],
   "source": [
    "def generate_rotated_gaussian_data():\n",
    "    y, x = np.mgrid[0:100, 0:100]\n",
    "    model = models.Gaussian2D(amplitude=3, x_mean=50, y_mean=50,\n",
    "                              x_stddev=10, y_stddev=20, theta=np.pi/4)\n",
    "    data = model(x, y) + 0.1 * np.random.normal(size=x.shape)\n",
    "    return data, x, y\n",
    "\n",
    "data, x, y = generate_rotated_gaussian_data()\n",
    "fitted = fit_rotated_2d_gaussian(data, x, y, plot_result=True)\n",
    "\n",
    "# Print the fitted parameters\n",
    "print(f\"Amplitude: {fitted.amplitude.value}\")\n",
    "print(f\"x_mean: {fitted.x_mean.value}\")\n",
    "print(f\"y_mean: {fitted.y_mean.value}\")\n",
    "print(f\"x_stddev: {fitted.x_stddev.value}\")\n",
    "print(f\"y_stddev: {fitted.y_stddev.value}\")\n",
    "print(f\"theta (radians): {fitted.theta.value}\")"
   ]
  },
  {
   "cell_type": "code",
   "execution_count": null,
   "id": "54978ab1",
   "metadata": {},
   "outputs": [],
   "source": [
    "def fit_rotated_2d_gaussian(data, x=None, y=None, plot_result=False):\n",
    "    \"\"\"\n",
    "    Fit a rotated 2D Gaussian to 2D data using Astropy's Gaussian2D model.\n",
    "\n",
    "    Parameters:\n",
    "        data : 2D numpy array\n",
    "            The input data array to fit.\n",
    "        x, y : 2D numpy arrays, optional\n",
    "            Meshgrid coordinates corresponding to data. If None, will be auto-generated.\n",
    "        plot_result : bool\n",
    "            Whether to plot the original data and fit result using contourf.\n",
    "\n",
    "    Returns:\n",
    "        fitted_model : Gaussian2D\n",
    "            The best-fit Gaussian2D model.\n",
    "    \"\"\"\n",
    "    # Generate coordinate grids if not provided\n",
    "    ny, nx = data.shape\n",
    "    if x is None or y is None:\n",
    "        y, x = np.mgrid[:ny, :nx]\n",
    "\n",
    "    # Estimate initial parameters\n",
    "    amplitude_init = np.max(data)\n",
    "    x_mean_init = x[data == amplitude_init][0]\n",
    "    y_mean_init = y[data == amplitude_init][0]\n",
    "\n",
    "    # Initial guess for model\n",
    "    gauss_init = models.Gaussian2D(amplitude=amplitude_init, x_mean=x_mean_init,\n",
    "                                   y_mean=y_mean_init, x_stddev=5, y_stddev=5, theta=0)\n",
    "\n",
    "    # Fitting with Levenberg-Marquardt algorithm\n",
    "    fitter = fitting.LevMarLSQFitter()\n",
    "    fitted_model = fitter(gauss_init, x, y, data)\n",
    "\n",
    "    if plot_result:\n",
    "        fit_data = fitted_model(x, y)\n",
    "        fig, axes = plt.subplots(1, 2, figsize=(12, 5))\n",
    "\n",
    "        contour_levels = 20  # number of contour levels\n",
    "\n",
    "        axes[0].contourf(x, y, data, levels=contour_levels, cmap='viridis')\n",
    "        axes[0].set_title(\"Original Data\")\n",
    "        axes[0].set_xlabel(\"X\")\n",
    "        axes[0].set_ylabel(\"Y\")\n",
    "\n",
    "        axes[1].contourf(x, y, fit_data, levels=contour_levels, cmap='viridis')\n",
    "        axes[1].set_title(\"Fitted Gaussian\")\n",
    "        axes[1].set_xlabel(\"X\")\n",
    "        axes[1].set_ylabel(\"Y\")\n",
    "\n",
    "        plt.tight_layout()\n",
    "        plt.show()\n",
    "\n",
    "    return fitted_model"
   ]
  },
  {
   "cell_type": "code",
   "execution_count": null,
   "id": "fe610e2f",
   "metadata": {},
   "outputs": [],
   "source": [
    "import shutil\n",
    "from pathlib import Path \n",
    "from astropy.io import fits\n",
    "import sys, getopt,os\n",
    "import numpy as np\n",
    "\n",
    "\n",
    "#def fitsmove(rawFitsDirectory):\n",
    "#    directory = Path(rawFitsDirectory)\n",
    "\n",
    "#def stackFits(fitsDirectory):\n",
    "data_dir = Path(\"Z:\\Astro_BlackCAT\\BlackCAT_Calibration_Data\\LC_Calibration_Data\\Raw Long Cell Data\\y2024-12-09\\BC001_Al_FF_243K_HORI_0_0\")\n",
    "\n",
    "det_sns= ['s23056','s23196','s23197','s23200']\n",
    "\n",
    "for a in range(len(det_sns)):\n",
    "    file_list = [file for file in os.listdir(f\"{data_dir}/{det_sns[a]}\") if os.path.isfile(os.path.join(f\"{data_dir}/{det_sns[a]}\", file))] \n",
    "    blank = np.zeros((550,550))\n",
    "        \n",
    "        #outfits = fits.PrimaryHDU(data=blank)\n",
    "        \n",
    "    for b in range(len(file_list)):\n",
    "        path = Path(str(data_dir)+'/'+det_sns[a] +'/'+str(file_list[b]))\n",
    "        d = fits.open(path)\n",
    "        data = d[1].data # data contents of the fits file\n",
    "        outFileName = data_dir/Path(det_sns[a])/Path(det_sns[a]+\"_combined\")\n",
    "        #fits.append(outFileName,data)\n",
    "\n",
    "        print(b)\n",
    "\n",
    "\n",
    "#stackFits(\"Z:\\Astro_BlackCAT\\BlackCAT_Calibration_Data\\LC_Calibration_Data\\Raw Long Cell Data\\y2024-12-09\\BC001_Al_FF_243K_HORI_0_0\")"
   ]
  },
  {
   "cell_type": "code",
   "execution_count": null,
   "id": "a6b566c8",
   "metadata": {},
   "outputs": [],
   "source": [
    "import matplotlib.pyplot as plt\n",
    "\n",
    "evnt = fits.open(\"Z:\\Astro_BlackCAT\\BlackCAT_Calibration_Data\\LC_Calibration_Data\\Raw Long Cell Data\\y2024-12-09\\BC001_Al_FF_243K_HORI_20_0\\output\\eventlist_s23056_th1_50.fits.gz\")\n",
    "data = evnt[1].data\n",
    "\n",
    "from xhcd.core import Spectrum\n",
    "import xhcd.speedster.eventProcessing\n",
    "from bc_imaging_analysis import imaging_analysis\n",
    "\n",
    "print(evnt[1].columns)"
   ]
  },
  {
   "cell_type": "code",
   "execution_count": null,
   "id": "6aa7a881",
   "metadata": {},
   "outputs": [],
   "source": [
    "#from astropy.table import Table\n",
    "\n",
    "def eventlist_in_browser(event_list):\n",
    "    if type(event_list) == 'pathlib.PosixPath' or 'pathlib.WindowsPath':\n",
    "        event_list = fits.open(event_list, memmap=True)\n",
    "        event_data = Table(event_list[1].data)\n",
    "        event_data.show_in_browser()\n",
    "    elif type(event_list) != 'astropy.io.fits.fitsrec.FITS_rec':  \n",
    "        event_data = Table(event_list[1].data)\n",
    "        event_data.show_in_browser()\n",
    "  \n",
    "\n",
    "eventlist_in_browser(Path(r\"Z:\\Astro_BlackCAT\\BlackCAT_Calibration_Data\\LC_Calibration_Data\\Raw Long Cell Data\\y2024-12-09\\BC001_Al_FF_243K_HORI_0_0\\output\\eventlist_s23056_th1_50.fits.gz\"))\n",
    "type(Path(r\"Z:\\Astro_BlackCAT\\BlackCAT_Calibration_Data\\LC_Calibration_Data\\Raw Long Cell Data\\y2024-12-09\\BC001_Al_FF_243K_HORI_0_0\\s23056\\Al_reg__0000_0x0000_B0.fits.fz\"))"
   ]
  },
  {
   "cell_type": "code",
   "execution_count": null,
   "id": "1e1b3054",
   "metadata": {},
   "outputs": [],
   "source": [
    "event_list = fits.open(r\"Z:\\Astro_BlackCAT\\BlackCAT_Calibration_Data\\LC_Calibration_Data\\Raw Long Cell Data\\y2024-12-09\\BC001_Al_FF_243K_HORI_0_0\\output\\eventlist_s23056_th1_50.fits.gz\", memmap=True)\n",
    "event_data = Table(event_list[1].data)\n",
    "header = event_list[0]\n",
    "dat = event_list[1].section[10:20]"
   ]
  },
  {
   "cell_type": "markdown",
   "id": "08da957d",
   "metadata": {},
   "source": [
    "Test code for taking a random sampling of a given event list"
   ]
  },
  {
   "cell_type": "code",
   "execution_count": null,
   "id": "8333c295",
   "metadata": {},
   "outputs": [],
   "source": [
    "#a = [-2,1,5,3,8,5,6]\n",
    "#b = [1,2,5]\n",
    "#c = [ a[i] for i in b]\n",
    "\n",
    "d = fits.open(r\"Z:\\Astro_BlackCAT\\BlackCAT_Calibration_Data\\LC_Calibration_Data\\Raw Long Cell Data\\y2024-12-09\\BC001_Al_FF_243K_HORI_0_0\\output\\eventlist_s23056_th1_50.fits.gz\")\n",
    "data = d[1].data\n",
    "columns = d[1].columns\n",
    "\n",
    "#print(columns)\n",
    "\n",
    "new_columns = fits.ColDefs(columns)\n",
    "new_hdu =  fits.BinTableHDU.from_columns(new_columns)\n",
    "end = len(data)\n",
    "sample_index = np.random.randint(0,end,500)\n",
    "sub_sample = [data[i] for i in sample_index]\n",
    "\n",
    "\n",
    "d[1].data = d[1].data[sample_index]\n",
    "\n",
    "#data_2 = d[1].data\n",
    "d.writeto('test.fits',overwrite=True)"
   ]
  },
  {
   "cell_type": "code",
   "execution_count": null,
   "id": "5bf8750b",
   "metadata": {},
   "outputs": [],
   "source": [
    "import matplotlib.pyplot as plt\n",
    "\n",
    "from xhcd.core import Spectrum\n",
    "\n",
    "al_test = Spectrum('test2.fits', th1=50, th2=50, graded=False)\n",
    "al_test.regrade(50,200)\n"
   ]
  },
  {
   "cell_type": "markdown",
   "id": "fbad8b78",
   "metadata": {},
   "source": [
    "Test code for splitting up an event list starting and stopping at a specific index"
   ]
  },
  {
   "cell_type": "code",
   "execution_count": null,
   "id": "ba32d4e9",
   "metadata": {},
   "outputs": [],
   "source": [
    "d = fits.open(r\"Z:\\Astro_BlackCAT\\BlackCAT_Calibration_Data\\LC_Calibration_Data\\Raw Long Cell Data\\y2024-12-09\\BC001_Al_FF_243K_HORI_0_0\\output\\eventlist_s23056_th1_50.fits.gz\")\n",
    "data = d[1].data\n",
    "fraction  = 5\n",
    "numEl  = int(len(data)/fraction)\n",
    "n = 2\n",
    "d[1].data = data[n*numEl:(n+1)*numEl]\n",
    "d.writeto('test.fits',overwrite=True)\n"
   ]
  },
  {
   "cell_type": "code",
   "execution_count": null,
   "id": "c9522660",
   "metadata": {},
   "outputs": [],
   "source": [
    "d = fits.open(r\"Z:\\Astro_BlackCAT\\BlackCAT_Calibration_Data\\LC_Calibration_Data\\Raw Long Cell Data\\y2024-12-09\\BC001_Al_FF_243K_HORI_0_0\\output\\eventlist_s23056_th1_50.fits.gz\")\n",
    "data = d[1].data\n",
    "cols = d[1].columns\n",
    "\n",
    "newDat = d[1].data[0:200]\n",
    "hdu = fits.BinTableHDU.from_columns(cols)\n",
    "hdu.data = newDat\n",
    "#hdu.writeto('test2.fits',overwrite=True)\n",
    "\n",
    "test = fits.open('test4.fits')"
   ]
  },
  {
   "cell_type": "markdown",
   "id": "4868d71d",
   "metadata": {},
   "source": [
    "Test code for a function to split an event list in to many sub-event lists"
   ]
  },
  {
   "cell_type": "code",
   "execution_count": null,
   "id": "271d78bc",
   "metadata": {},
   "outputs": [],
   "source": [
    "event_list=Path(r\"Z:\\Astro_BlackCAT\\BlackCAT_Calibration_Data\\LC_Calibration_Data\\Raw Long Cell Data\\y2024-12-09\\BC001_Al_FF_243K_HORI_0_0\\output\\eventlist_s23056_th1_50.fits.gz\")\n",
    "outdir = r\"C:\\Users\\ajo5182\\Documents\\astro\\psf\\psf_source_localization\\test\"\n",
    "numberOfLists = 50000\n",
    "eventlist = 'test'\n",
    "\n",
    "d = fits.open(event_list)\n",
    "data = d[1].data\n",
    "cols = d[1].columns\n",
    "size = len(data)\n",
    "\n",
    "outdir = Path(outdir)\n",
    "\n",
    "subSampleHDU = fits.BinTableHDU.from_columns(cols)\n",
    "\n",
    "for n in range(int(size/numberOfLists)):\n",
    "    subSampleHDU.data = d[1].data[n*int(size/numberOfLists):(n+1)*int(size/numberOfLists)]\n",
    "    fitsName = Path(eventlist+str(n)+'.fits')\n",
    "\n",
    "    subSampleHDU.writeto(outdir/fitsName,overwrite=True)"
   ]
  },
  {
   "cell_type": "code",
   "execution_count": null,
   "id": "d1d09251",
   "metadata": {},
   "outputs": [],
   "source": [
    "data_dir = Path(r\"Z:\\Astro_BlackCAT\\BlackCAT_Calibration_Data\\LC_Calibration_Data\\Raw Long Cell Data\\y2024-12-09\\BC001_Al_FF_243K_HORI_0_0\\output\") \n",
    "outdir = Path(r\"C:\\Users\\ajo5182\\Documents\\astro\\psf\\psf_source_localization\\test\")\n",
    "append = \"subsample\"\n",
    "\n",
    "numberOfSamples = 50000\n",
    "\n",
    "\n",
    "file_list = [file for file in os.listdir(data_dir) if os.path.isfile(os.path.join(data_dir, file))] \n",
    "\n",
    "s23056 = fits.open(data_dir/Path(file_list[0]))\n",
    "s23056_data = s23056[1].data \n",
    "#s23056_cols = s23056[1].cols\n",
    "s23196 = fits.open(data_dir/Path(file_list[1]))\n",
    "s23196_data = s23196[1].data \n",
    "#s23196_cols = s23196[1].cols\n",
    "s23197 = fits.open(data_dir/Path(file_list[2]))\n",
    "s23197_data = s23197[1].data \n",
    "#s23197_cols = s23197[1].cols\n",
    "s23200 = fits.open(data_dir/Path(file_list[3]))\n",
    "s23200_data = s23200[1].data \n",
    "#s23200_cols = s23200[1].cols\n",
    "\n",
    "\n",
    "\n",
    "for a in range(len(file_list)):\n",
    "    d = fits.open(data_dir/Path(file_list[a]))\n",
    "    data = d[1].data \n",
    "    cols = d[1].columns\n",
    "    size = len(data)\n",
    "    subSampleHDU = fits.BinTableHDU.from_columns(cols)\n",
    "    for n in range(int(size/numberOfSamples)):\n",
    "        subSampleHDU.data = d[1].data[n*int(size/numberOfSamples):(n+1)*int(size/numberOfSamples)]\n",
    "        out = outdir/Path('subsample'+str(n))\n",
    "        if os.path.isdir((out)) == False:\n",
    "            os.mkdir(out)\n",
    "            print('made the directory')\n",
    "        else:\n",
    "            print(\"didn't make the directory\")\n",
    "\n",
    "        subSampleHDU.writeto(out/Path(file_list[a]).with_suffix(''),overwrite=True)\n",
    "\n"
   ]
  },
  {
   "cell_type": "code",
   "execution_count": null,
   "id": "9d9b1676",
   "metadata": {},
   "outputs": [],
   "source": [
    "out = []\n",
    "sublist = 5\n",
    "test = 10*np.random.rand(100)\n",
    "numEl = int(len(test)/sublist)\n",
    "for n in range(sublist):\n",
    "    print(n)\n",
    "    print(test[n*numEl:(n+1)*numEl])\n"
   ]
  },
  {
   "cell_type": "code",
   "execution_count": null,
   "id": "aa3fc87f",
   "metadata": {},
   "outputs": [],
   "source": [
    "\n",
    "data_dir = Path(r\"Z:\\Astro_BlackCAT\\BlackCAT_Calibration_Data\\LC_Calibration_Data\\Raw Long Cell Data\\y2024-12-09\\BC001_Al_FF_243K_HORI_0_0\\output\") \n",
    "outdir = Path(r\"C:\\Users\\ajo5182\\Documents\\astro\\psf\\psf_source_localization\\test\")\n",
    "append = \"subsample\"\n",
    "\n",
    "numberOflists = 5\n",
    "\n",
    "\n",
    "file_list = [file for file in os.listdir(data_dir) if os.path.isfile(os.path.join(data_dir, file))] \n",
    "\n",
    "'''\n",
    "s23056 = fits.open(data_dir/Path(file_list[0]))\n",
    "s23056_data = s23056[1].data \n",
    "#s23056_cols = s23056[1].cols\n",
    "s23196 = fits.open(data_dir/Path(file_list[1]))\n",
    "s23196_data = s23196[1].data \n",
    "#s23196_cols = s23196[1].cols\n",
    "s23197 = fits.open(data_dir/Path(file_list[2]))\n",
    "s23197_data = s23197[1].data \n",
    "#s23197_cols = s23197[1].cols\n",
    "s23200 = fits.open(data_dir/Path(file_list[3]))\n",
    "s23200_data = s23200[1].data \n",
    "#s23200_cols = s23200[1].cols\n",
    "'''\n",
    "\n",
    "\n",
    "for a in range(len(file_list)):\n",
    "    d = fits.open(data_dir/Path(file_list[a]))\n",
    "    data = d[1].data \n",
    "    cols = d[1].columns\n",
    "    size = len(data)\n",
    "    numberOfSamples = int(size/numberOflists)\n",
    "    subSampleHDU = fits.BinTableHDU.from_columns(cols)\n",
    "    for n in range(numberOflists):\n",
    "        subSampleHDU.data = d[1].data[n*numberOfSamples:(n+1)*numberOfSamples]\n",
    "        out = outdir/Path('subsample'+str(n))\n",
    "        if os.path.isdir((out)) == False:\n",
    "            os.mkdir(out)\n",
    "            #print('made the directory')\n",
    "        #else:\n",
    "        #    print(\"didn't make the directory\")\n",
    "\n",
    "        subSampleHDU.writeto(out/Path(file_list[a]).with_suffix(''),overwrite=True)\n",
    "\n"
   ]
  },
  {
   "cell_type": "code",
   "execution_count": null,
   "id": "b09193d3",
   "metadata": {},
   "outputs": [],
   "source": [
    "data_path1 = Path(\n",
    "    r\"Z:\\Astro_BlackCAT\\BlackCAT_Calibration_Data\\LC_Calibration_Data\\Raw Long Cell Data\\subsampled_eventlists\\BC001_Al_FF_243K_HORI_10_0\\subsample0\\Analysis\\imaging_analysis_20241217\\image_reconstruction.fits.gz\"\n",
    "    )\n",
    "d = fits.open(data_path1) # open fits file\n",
    "data = d[0].data # data contents of the fits file\n",
    "#shape =  data.shape\n",
    "\n",
    "ny, nx = data.shape\n",
    "ym, xm = np.mgrid[:ny, :nx]\n",
    "w = WCS(d[0].header)\n",
    "x,y= w.array_index_to_world_values(ym,xm)\n",
    "x = (x+(180+360)) % 360 -180\n",
    "\n",
    "peak = np.max(data)\n",
    "peak_loc = np.unravel_index(np.argmax(data),data.shape)\n",
    "window = 10\n",
    "\n",
    "windowed_data = data[peak_loc[0]-window:peak_loc[0]+window, peak_loc[1]-window:peak_loc[1]+window]\n",
    "x_window = x[peak_loc[0]-window:peak_loc[0]+window, peak_loc[1]-window:peak_loc[1]+window]\n",
    "y_window = y[peak_loc[0]-window:peak_loc[0]+window, peak_loc[1]-window:peak_loc[1]+window]\n",
    "\n",
    "fitted,covariance_matrix = fit_rotated_2d_gaussian(windowed_data, x_window, y_window, plot_result=True)\n"
   ]
  },
  {
   "cell_type": "code",
   "execution_count": null,
   "id": "c3079fea",
   "metadata": {},
   "outputs": [],
   "source": [
    "d= fits.open(\"Z:\\Astro_BlackCAT\\BlackCAT_Calibration_Data\\LC_Calibration_Data\\Raw Long Cell Data\\subsampled_eventlists\\BC001_Al_FF_243K_HORI_10_0\\subsample5\\Analysis\\imaging_analysis\\combined_events_th1_200.fits.gz\")\n",
    "data = d[1].data"
   ]
  },
  {
   "cell_type": "code",
   "execution_count": null,
   "id": "82f629c1",
   "metadata": {},
   "outputs": [],
   "source": [
    "direct = Path(r\"Z:\\Astro_BlackCAT\\BlackCAT_Calibration_Data\\LC_Calibration_Data\\Raw Long Cell Data\\subsampled_eventlists\\BC001_Al_FF_243K_HORI_5_0\")\n",
    "\n",
    "folder_list = [folder for folder in os.listdir(direct) if os.path.isdir(os.path.join(direct, folder))]\n",
    "\n",
    "for a in range(len(folder_list)):\n",
    "    if str(direct/Path(folder_list[a])/Path())"
   ]
  },
  {
   "cell_type": "code",
   "execution_count": 11,
   "id": "7afdcb5c",
   "metadata": {},
   "outputs": [],
   "source": [
    "def random_sample_events_list(directory, sampleNumber, outdir, eventlist, save = True):\n",
    "    \n",
    "    # given an event list this returns an event list with containing a given number\n",
    "    # of subsamples from the event list\n",
    "    \n",
    "    # event_list: string or path to the event list you want to sample\n",
    "    # sampleNumber: number of samples from the event list you want\n",
    "    # oudir: directory to save the subsample to\n",
    "    # eventlist: name to save the sub-sampled event list too\n",
    "    # \n",
    "    # save: to save the file to the location in eventlist\n",
    "    \n",
    "    directory = Path(directory)\n",
    "    d = fits.open(directory/Path(eventlist))\n",
    "    data = d[1].data\n",
    "    cols = d[1].columns\n",
    "    \n",
    "    end = len(data)\n",
    "    if sampleNumber > end:\n",
    "        sampleNumber = end\n",
    "        print(\"number of samples requested is greater than number of events\")\n",
    "    population = range(0,end)\n",
    "    sample_index = np.random.choice(population, sampleNumber,replace = False)\n",
    "\n",
    "    subSampleHDU = fits.BinTableHDU.from_columns(cols)\n",
    "    subSampleHDU.data = d[1].data[sample_index]\n",
    "\n",
    "    if save == True:\n",
    "        if os.path.isdir(Path(outdir)) == False  :\n",
    "            os.makedirs(Path(outdir))\n",
    "        subSampleHDU.writeto(outdir/Path(eventlist),overwrite=True)\n",
    "    \n",
    "    return subSampleHDU"
   ]
  },
  {
   "cell_type": "code",
   "execution_count": 12,
   "id": "e06ffb2d",
   "metadata": {},
   "outputs": [],
   "source": [
    "d = random_sample_events_list(\n",
    "    r\"Z:\\Astro_BlackCAT\\BlackCAT_Calibration_Data\\LC_Calibration_Data\\Raw Long Cell Data\\y2024-12-09\\BC001_Al_FF_243K_HORI_5_0\\output\",\n",
    "    2000,\n",
    "   r\"c:\\Users\\ajo5182\\Documents\\astro\\test\\test\",\n",
    "    \"eventlist_s23200_th1_50.fits.gz\"\n",
    "    )"
   ]
  },
  {
   "cell_type": "code",
   "execution_count": 61,
   "id": "a4ba0b01",
   "metadata": {},
   "outputs": [
    {
     "name": "stderr",
     "output_type": "stream",
     "text": [
      "<>:1: SyntaxWarning: invalid escape sequence '\\A'\n",
      "<>:1: SyntaxWarning: invalid escape sequence '\\A'\n",
      "C:\\Users\\ajo5182\\AppData\\Local\\Temp\\ipykernel_44680\\2717575252.py:1: SyntaxWarning: invalid escape sequence '\\A'\n",
      "  d = fits.open(\"Z:\\Astro_BlackCAT\\BlackCAT_Calibration_Data\\LC_Calibration_Data\\Raw Long Cell Data\\Test\\BC001_Al_FF_243K_HORI_5_0\\eventlist_s23196_th1_50.fits.gz\")\n"
     ]
    },
    {
     "name": "stdout",
     "output_type": "stream",
     "text": [
      "2000\n"
     ]
    }
   ],
   "source": [
    "d = fits.open(\"Z:\\Astro_BlackCAT\\BlackCAT_Calibration_Data\\LC_Calibration_Data\\Raw Long Cell Data\\Test\\BC001_Al_FF_243K_HORI_5_0\\eventlist_s23196_th1_50.fits.gz\")\n",
    "print(len(d[1].data))"
   ]
  },
  {
   "cell_type": "code",
   "execution_count": 4,
   "id": "21d442ec",
   "metadata": {},
   "outputs": [
    {
     "data": {
      "image/png": "[encoded data removed]",
      "text/plain": [
       "<Figure size 640x480 with 1 Axes>"
      ]
     },
     "metadata": {},
     "output_type": "display_data"
    }
   ],
   "source": [
    "eventlistPath = Path(r\"Z:\\Astro_BlackCAT\\BlackCAT_Calibration_Data\\LC_Calibration_Data\\y2024-12-12\\BC057_Ti_FF_233_HORI_10_0\\Analysis\\imaging_analysis_20241213\\combined_events_th1_200.fits.gz\")\n",
    "\n",
    "al = Spectrum(eventlistPath,th1=200,th2=50)\n",
    "#al.applyGainCorrection(r\"Z:\\Astro_X_Ray\\HCD_Data\\Speedster_data\\Speedster550_data\\s23056\\gainmaps\\Flight_gainmap_233K_25V_Full_Frame.fits\")\n",
    "\n",
    "al.plotSpectrum(binsize=10)"
   ]
  },
  {
   "cell_type": "code",
   "execution_count": 3,
   "id": "b93554f8",
   "metadata": {},
   "outputs": [
    {
     "name": "stderr",
     "output_type": "stream",
     "text": [
      "<>:1: SyntaxWarning: invalid escape sequence '\\A'\n",
      "<>:1: SyntaxWarning: invalid escape sequence '\\A'\n",
      "C:\\Users\\ajo5182\\AppData\\Local\\Temp\\ipykernel_34332\\971391885.py:1: SyntaxWarning: invalid escape sequence '\\A'\n",
      "  evntlist_in_browser(\"Z:\\Astro_BlackCAT\\BlackCAT_Calibration_Data\\LC_Calibration_Data\\Raw Long Cell Data\\y2024-12-09\\BC001_Al_FF_243K_HORI_10_0\\output\\eventlist_s23056_th1_50.fits.gz\")\n"
     ]
    }
   ],
   "source": [
    "\n",
    "\n",
    "evntlist_in_browser(\"Z:\\Astro_BlackCAT\\BlackCAT_Calibration_Data\\LC_Calibration_Data\\Raw Long Cell Data\\y2024-12-09\\BC001_Al_FF_243K_HORI_10_0\\output\\eventlist_s23056_th1_50.fits.gz\")"
   ]
  }
 ],
 "metadata": {
  "kernelspec": {
   "display_name": "xhcd",
   "language": "python",
   "name": "python3"
  },
  "language_info": {
   "codemirror_mode": {
    "name": "ipython",
    "version": 3
   },
   "file_extension": ".py",
   "mimetype": "text/x-python",
   "name": "python",
   "nbconvert_exporter": "python",
   "pygments_lexer": "ipython3",
   "version": "3.12.9"
  }
 },
 "nbformat": 4,
 "nbformat_minor": 5
}
