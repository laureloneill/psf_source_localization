{
 "cells": [
  {
   "cell_type": "code",
   "execution_count": null,
   "id": "5252ce93",
   "metadata": {},
   "outputs": [
    {
     "ename": "",
     "evalue": "",
     "output_type": "error",
     "traceback": [
      "\u001b[1;31mThe Kernel crashed while executing code in the current cell or a previous cell. \n",
      "\u001b[1;31mPlease review the code in the cell(s) to identify a possible cause of the failure. \n",
      "\u001b[1;31mClick <a href='https://aka.ms/vscodeJupyterKernelCrash'>here</a> for more info. \n",
      "\u001b[1;31mView Jupyter <a href='command:jupyter.viewOutput'>log</a> for further details."
     ]
    }
   ],
   "source": [
    "from astropy.io import fits\n",
    "from astropy.modeling import models, fitting\n",
    "\n",
    "import numpy as np\n",
    "from scipy import optimize\n",
    "from pathlib import Path\n",
    "import matplotlib.pyplot as plt\n",
    "\n",
    "import scipy.stats as stats\n",
    "from lmfit.models import GaussianModel "
   ]
  },
  {
   "cell_type": "code",
   "execution_count": null,
   "id": "6f53f2c0",
   "metadata": {},
   "outputs": [],
   "source": [
    "data_path = Path(\"Z:\\Astro_BlackCAT\\BlackCAT_Calibration_Data\\LC_Calibration_Data\\y2024-11-18\\BC_Ti_EffArr_1_R04\\Analysis\\imaging_analysis_20241120\\image_reconstruction.fits.gz\")\n",
    "d = fits.open(data_path) # open fits file\n",
    "\n",
    "data = d[0].data # data contents of the fits file\n",
    "shape =  data.shape\n",
    "imPixelSize = 0.0149\n",
    "\n",
    "y = imPixelSize * np.linspace((shape[0]-1)/-2,(shape[0]-1)/2, shape[0]) # create array from -23 deg to 23 deg, centered on zero\n",
    "x = imPixelSize * np.linspace((shape[1]-1)/-2,(shape[1]-1)/2, shape[1]) # create array from -41 deg to 41 deg, centered on zero\n",
    "\n",
    "peak = np.max(data)\n",
    "peak_loc = np.unravel_index(np.argmax(data),data.shape)\n",
    "window = 20\n",
    "\n",
    "x_window =x[peak_loc[1]-window:peak_loc[1]+window]\n",
    "y_window =y [peak_loc[0]-window:peak_loc[0]+window]\n",
    "X,Y = np.meshgrid(x[peak_loc[1]-window:peak_loc[1]+window],y[peak_loc[0]-window:peak_loc[0]+window])\n",
    "windowed_data = data[peak_loc[0]-window:peak_loc[0]+window, peak_loc[1]-window:peak_loc[1]+window]"
   ]
  },
  {
   "cell_type": "code",
   "execution_count": null,
   "id": "fa05dbde",
   "metadata": {},
   "outputs": [],
   "source": []
  }
 ],
 "metadata": {
  "kernelspec": {
   "display_name": "xhcd",
   "language": "python",
   "name": "python3"
  },
  "language_info": {
   "codemirror_mode": {
    "name": "ipython",
    "version": 3
   },
   "file_extension": ".py",
   "mimetype": "text/x-python",
   "name": "python",
   "nbconvert_exporter": "python",
   "pygments_lexer": "ipython3",
   "version": "3.12.9"
  }
 },
 "nbformat": 4,
 "nbformat_minor": 5
}
